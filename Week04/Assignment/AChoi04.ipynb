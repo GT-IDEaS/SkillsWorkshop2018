{
 "cells": [
  {
   "cell_type": "markdown",
   "metadata": {},
   "source": [
    "Today we will be using some of our numerical packages in Python to explore a useful technique in machine learning."
   ]
  },
  {
   "cell_type": "code",
   "execution_count": 8,
   "metadata": {},
   "outputs": [],
   "source": [
    "# These are going to come in handy as we work with the data.\n",
    "import numpy as np\n",
    "import matplotlib.pyplot as plt"
   ]
  },
  {
   "cell_type": "markdown",
   "metadata": {},
   "source": [
    "Now let's import a data set, the wine data set. "
   ]
  },
  {
   "cell_type": "code",
   "execution_count": 9,
   "metadata": {},
   "outputs": [],
   "source": [
    "from sklearn.datasets import load_wine"
   ]
  },
  {
   "cell_type": "code",
   "execution_count": 10,
   "metadata": {},
   "outputs": [
    {
     "name": "stdout",
     "output_type": "stream",
     "text": [
      "X shape =  (178, 13)\n",
      "178 examples, 13 features/variables\n",
      "There are 3 classes.\n"
     ]
    }
   ],
   "source": [
    "X, y = load_wine(return_X_y=True)\n",
    "\n",
    "# X matrix is m examples by n features (m,n)\n",
    "# y is a 1D array of integer class labels\n",
    "\n",
    "# ---INSERT CODE BELOW--- find the dimensions of the array X\n",
    "m, n = X.shape\n",
    "\n",
    "print('X shape = ', (m,n))\n",
    "print(str(m) + ' examples, ' + str(n) + ' features/variables')\n",
    "print('There are ' + str(len(np.unique(y))) + ' classes.')\n"
   ]
  },
  {
   "cell_type": "markdown",
   "metadata": {
    "collapsed": true
   },
   "source": [
    "Limited exapmles, yet a substantial set of features. Let's see what we can get from a PCA analysis."
   ]
  },
  {
   "cell_type": "code",
   "execution_count": 11,
   "metadata": {},
   "outputs": [
    {
     "ename": "ImportError",
     "evalue": "cannot import name 'PlotPC1PC2'",
     "output_type": "error",
     "traceback": [
      "\u001b[0;31m---------------------------------------------------------------------------\u001b[0m",
      "\u001b[0;31mImportError\u001b[0m                               Traceback (most recent call last)",
      "\u001b[0;32m<ipython-input-11-c59102e92941>\u001b[0m in \u001b[0;36m<module>\u001b[0;34m()\u001b[0m\n\u001b[1;32m     16\u001b[0m \u001b[0;34m\u001b[0m\u001b[0m\n\u001b[1;32m     17\u001b[0m \u001b[0;34m\u001b[0m\u001b[0m\n\u001b[0;32m---> 18\u001b[0;31m \u001b[0;32mfrom\u001b[0m \u001b[0mutils\u001b[0m \u001b[0;32mimport\u001b[0m \u001b[0mPlotPC1PC2\u001b[0m \u001b[0;31m#Loading a helper function to plot and save time\u001b[0m\u001b[0;34m\u001b[0m\u001b[0m\n\u001b[0m\u001b[1;32m     19\u001b[0m \u001b[0mPCs\u001b[0m\u001b[0;34m,\u001b[0m \u001b[0ms\u001b[0m \u001b[0;34m=\u001b[0m \u001b[0mgeneratePCS\u001b[0m\u001b[0;34m(\u001b[0m\u001b[0mX\u001b[0m\u001b[0;34m)\u001b[0m\u001b[0;34m\u001b[0m\u001b[0m\n\u001b[1;32m     20\u001b[0m \u001b[0mPlotPC1PC2\u001b[0m\u001b[0;34m(\u001b[0m\u001b[0mPCs\u001b[0m\u001b[0;34m,\u001b[0m \u001b[0my\u001b[0m\u001b[0;34m)\u001b[0m\u001b[0;34m\u001b[0m\u001b[0m\n",
      "\u001b[0;31mImportError\u001b[0m: cannot import name 'PlotPC1PC2'"
     ]
    }
   ],
   "source": [
    "# General practice is to use mean subtraction, subtract the mean of each feature (columns) for each feature in each example.\n",
    "# ---INSERT CODE BELOW--- Hint: numpy has a great way of doing this using broadcasting\n",
    "X -= np.mean(X, axis = 0, keepdims=True)\n",
    "\n",
    "# ---INSERT CODE BELOW--- Perform the singular value decomposition of X, generate the rectangular diagonal S matrix from the \n",
    "# returned singular values, and generate the pricipal component scores == U dot S\n",
    "def generatePCS(X):\n",
    "    m,n = X.shape\n",
    "    U, s, Vt = np.linalg.svd(X)\n",
    "    print(U.shape)\n",
    "    S = np.concatenate((np.diag(s), np.zeros((m-n, n))), axis = 0)\n",
    "    print(S.shape)\n",
    "    print(Vt.shape)\n",
    "    PCs = np.dot(U, S)\n",
    "    return (PCs, s)\n",
    "\n",
    "\n",
    "from utils import PlotPC1PC2 #Loading a helper function to plot and save time\n",
    "PCs, s = generatePCS(X)\n",
    "PlotPC1PC2(PCs, y)"
   ]
  },
  {
   "cell_type": "markdown",
   "metadata": {},
   "source": [
    "This doesn't seem to differentiate the class 1 and 2 very well... It seems these values aren't on comparable scales. Let's try to investigate this."
   ]
  },
  {
   "cell_type": "code",
   "execution_count": 12,
   "metadata": {},
   "outputs": [
    {
     "name": "stdout",
     "output_type": "stream",
     "text": [
      "[1.82938202e+00 3.46365169e+00 8.63483146e-01 1.05050562e+01\n",
      " 6.22584270e+01 1.58488764e+00 3.05073034e+00 2.98146067e-01\n",
      " 1.98910112e+00 7.94191012e+00 7.52550562e-01 1.38831461e+00\n",
      " 9.33106742e+02]\n",
      "[-1.97061798e+00 -1.59634831e+00 -1.00651685e+00 -8.89494382e+00\n",
      " -2.97415730e+01 -1.31511236e+00 -1.68926966e+00 -2.31853933e-01\n",
      " -1.18089888e+00 -3.77808988e+00 -4.77449438e-01 -1.34168539e+00\n",
      " -4.68893258e+02]\n"
     ]
    }
   ],
   "source": [
    "#---INSERT CODE BELOW--- Using numpy, print two vectors of length n showing the max and min of each of the features\n",
    "print(np.max(X, axis = 0))\n",
    "print(np.min(X, axis = 0))"
   ]
  },
  {
   "cell_type": "markdown",
   "metadata": {},
   "source": [
    "Because some of the features have very different ranges and scales, let's bring these to a more comparable level using feature scaling."
   ]
  },
  {
   "cell_type": "code",
   "execution_count": 13,
   "metadata": {},
   "outputs": [
    {
     "name": "stdout",
     "output_type": "stream",
     "text": [
      "(178, 178)\n",
      "(178, 13)\n",
      "(13, 13)\n"
     ]
    },
    {
     "ename": "NameError",
     "evalue": "name 'PlotPC1PC2' is not defined",
     "output_type": "error",
     "traceback": [
      "\u001b[0;31m---------------------------------------------------------------------------\u001b[0m",
      "\u001b[0;31mNameError\u001b[0m                                 Traceback (most recent call last)",
      "\u001b[0;32m<ipython-input-13-3fe5d633a8b6>\u001b[0m in \u001b[0;36m<module>\u001b[0;34m()\u001b[0m\n\u001b[1;32m      7\u001b[0m \u001b[0;34m\u001b[0m\u001b[0m\n\u001b[1;32m      8\u001b[0m \u001b[0mPCs\u001b[0m\u001b[0;34m,\u001b[0m \u001b[0ms\u001b[0m \u001b[0;34m=\u001b[0m \u001b[0mgeneratePCS\u001b[0m\u001b[0;34m(\u001b[0m\u001b[0mX\u001b[0m\u001b[0;34m)\u001b[0m\u001b[0;34m\u001b[0m\u001b[0m\n\u001b[0;32m----> 9\u001b[0;31m \u001b[0mPlotPC1PC2\u001b[0m\u001b[0;34m(\u001b[0m\u001b[0mPCs\u001b[0m\u001b[0;34m,\u001b[0m \u001b[0my\u001b[0m\u001b[0;34m)\u001b[0m\u001b[0;34m\u001b[0m\u001b[0m\n\u001b[0m",
      "\u001b[0;31mNameError\u001b[0m: name 'PlotPC1PC2' is not defined"
     ]
    }
   ],
   "source": [
    "# Again using numpy, find the standard deviation of each feature across all samples (i.e. the standard deviation of each column)\n",
    "# and divide by this value.\n",
    "# ---INSERT CODE HERE---\n",
    "X /= np.std(X, axis = 0, keepdims=True)\n",
    "\n",
    "\n",
    "\n",
    "PCs, s = generatePCS(X)\n",
    "PlotPC1PC2(PCs, y)"
   ]
  },
  {
   "cell_type": "markdown",
   "metadata": {},
   "source": [
    "This seems like a much better result, we are observing some distinct separation in the PCA space with only 2 components."
   ]
  },
  {
   "cell_type": "code",
   "execution_count": 14,
   "metadata": {},
   "outputs": [
    {
     "data": {
      "image/png": "[encoded data removed]",
      "text/plain": [
       "<Figure size 432x288 with 1 Axes>"
      ]
     },
     "metadata": {},
     "output_type": "display_data"
    }
   ],
   "source": [
    "# Now we will plot the percent of variance that each component describes according to the sorted eigenvalues of X'X\n",
    "# We generate the eigenvalues from the singular values, s. What is the relationship? \n",
    "# ---INSERT CODE HERE--- Generate an array of the eigenvalues scaled such that their sum = 1. \n",
    "scaled_eigenvalues = s**2/np.sum(s**2)\n",
    "\n",
    "# Making the scree plot\n",
    "_ = np.arange(len(s)) + 1\n",
    "plt.plot(_, scaled_eigenvalues)\n",
    "plt.show()"
   ]
  },
  {
   "cell_type": "code",
   "execution_count": 15,
   "metadata": {},
   "outputs": [],
   "source": [
    "def describe_variance(scaled_eigenvalues, thresh):\n",
    "    #---INSERT CODE HERE--- Finish the function to show how many principal components it takes to describe a \n",
    "    # certain percentage of the variance in the dataset given by thresh\n",
    "    eig_sum = 0\n",
    "    for i in range(len(scaled_eigenvalues)):\n",
    "        eig_sum += scaled_eigenvalues[i]\n",
    "        if eig_sum >= thresh:\n",
    "            break\n",
    "    print(str(eig_sum*100) + '% of the variance is described by ' + str(i+1) + ' components.')\n",
    "            \n",
    "        "
   ]
  },
  {
   "cell_type": "code",
   "execution_count": 16,
   "metadata": {},
   "outputs": [
    {
     "name": "stdout",
     "output_type": "stream",
     "text": [
      "96.16971684450641% of the variance is described by 10 components.\n"
     ]
    }
   ],
   "source": [
    "# Run the function, use a thresh = 0.95\n",
    "describe_variance(scaled_eigenvalues, thresh = 0.95)"
   ]
  },
  {
   "cell_type": "markdown",
   "metadata": {},
   "source": [
    "We now see that most of the data can be described by fewer than the original number of features. This isn't a vastly different number in this case, but can be extremely useful for datasets with a high number of features.\n",
    "\n",
    "As an exercise left to the class, generate a reduced dimension dataset based on the number of features it takes to describe 90% of the variance. The data set should be returned as a m x n_reduced array. You will upload 2 files to the HW. This completed notebook labeled as discussed earlier in the course and a .csv file of the reduced dimension array with NO HEADERS and NO ROW LABELS."
   ]
  },
  {
   "cell_type": "code",
   "execution_count": 24,
   "metadata": {},
   "outputs": [
    {
     "name": "stdout",
     "output_type": "stream",
     "text": [
      "(178, 8)\n"
     ]
    }
   ],
   "source": [
    "import pandas as pd \n",
    "from sklearn.decomposition import PCA\n",
    "pca = PCA(0.90)\n",
    "pca.fit(X)\n",
    "pca_data = pca.transform(X)\n",
    "print(pca_data.shape)\n",
    "table = pd.DataFrame(pca_data)\n",
    "table.to_csv('AChoi04.csv',sep=',',header = None,  index = None)"
   ]
  },
  {
   "cell_type": "code",
   "execution_count": null,
   "metadata": {},
   "outputs": [],
   "source": []
  },
  {
   "cell_type": "code",
   "execution_count": null,
   "metadata": {},
   "outputs": [],
   "source": []
  },
  {
   "cell_type": "code",
   "execution_count": null,
   "metadata": {},
   "outputs": [],
   "source": []
  },
  {
   "cell_type": "code",
   "execution_count": null,
   "metadata": {},
   "outputs": [],
   "source": []
  }
 ],
 "metadata": {
  "kernelspec": {
   "display_name": "Python 3",
   "language": "python",
   "name": "python3"
  },
  "language_info": {
   "codemirror_mode": {
    "name": "ipython",
    "version": 3
   },
   "file_extension": ".py",
   "mimetype": "text/x-python",
   "name": "python",
   "nbconvert_exporter": "python",
   "pygments_lexer": "ipython3",
   "version": "3.6.5"
  }
 },
 "nbformat": 4,
 "nbformat_minor": 2
}
