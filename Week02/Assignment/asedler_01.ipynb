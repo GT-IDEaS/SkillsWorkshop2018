{
 "cells": [
  {
   "cell_type": "code",
   "execution_count": 8,
   "metadata": {},
   "outputs": [],
   "source": [
    "%matplotlib inline\n",
    "import matplotlib.pyplot as plt\n",
    "import numpy as np\n",
    "from scipy.stats import linregress\n",
    "from scipy.integrate import simps\n",
    "from matplotlib.patches import Polygon"
   ]
  },
  {
   "cell_type": "markdown",
   "metadata": {},
   "source": [
    "# Week02 Assignment\n",
    "1. Fit a linear curve to the data\n",
    "2. Fit a cubic curve using the SciPy library\n",
    "3. Find the area underneath the cubic curve over the domain of the data using the tools in SciPy\n",
    "4. Plot the data, the linear fit, and the cubic fit in Matplotlib. Make sure to give the plot a title and an x and y label. Save this figure and include it in your pull request!\n",
    "5. Put the area of the curve on the plot somewhere as text using Matplotlib\n",
    "6. Use the Bayesian information criterion to justify which model (linear or cubic) is preferable. Include this justification in your journal entry for the week."
   ]
  },
  {
   "cell_type": "code",
   "execution_count": 3,
   "metadata": {},
   "outputs": [],
   "source": [
    "x = [ 1.,   1.5,  2.,   2.5,  3.,   3.5,  4.,   4.5,  5.,\n",
    "     5.5,  6.,   6.5,  7.,   7.5, 8.,   8.5,  9.,   9.5, 10. ]\n",
    "y = [3.43, 4.94, 6.45, 9.22, 6.32, 6.11, 4.63, 8.95, 7.8, \n",
    "     8.35, 11.45, 14.71, 11.97, 12.46, 17.42, 17.0, 15.45, 19.15, 20.86]"
   ]
  },
  {
   "cell_type": "code",
   "execution_count": 26,
   "metadata": {},
   "outputs": [],
   "source": [
    "# Part 1\n",
    "linear_coeffs = np.polyfit(x, y, 1)\n",
    "linear_p = np.poly1d(linear_coeffs)"
   ]
  },
  {
   "cell_type": "code",
   "execution_count": 27,
   "metadata": {},
   "outputs": [],
   "source": [
    "# Part 2\n",
    "cubic_coeffs = np.polyfit(x, y, 3)\n",
    "cubic_p = np.poly1d(cubic_coeffs)"
   ]
  },
  {
   "cell_type": "code",
   "execution_count": 55,
   "metadata": {},
   "outputs": [],
   "source": [
    "# Part 3\n",
    "t = np.linspace(min(x), max(x), 200)\n",
    "area = simps(cubic_p(t), t)"
   ]
  },
  {
   "cell_type": "code",
   "execution_count": 60,
   "metadata": {},
   "outputs": [
    {
     "data": {
      "image/png": "[encoded data removed]",
      "text/plain": [
       "<matplotlib.figure.Figure at 0x1a1c68e240>"
      ]
     },
     "metadata": {},
     "output_type": "display_data"
    }
   ],
   "source": [
    "# Part 4 and 5\n",
    "# Plot the data and the models\n",
    "fig, ax = plt.subplots()\n",
    "plt.scatter(x,y, c='k')\n",
    "plt.plot(t, linear_p(t), 'r', label='linear model')\n",
    "plt.plot(t, cubic_p(t), 'b', label='cubic model')\n",
    "plt.xlabel('x')\n",
    "plt.ylabel('y')\n",
    "\n",
    "# Plot the integrated area\n",
    "boundary = [(min(x), 0)] + list(zip(t, cubic_p(t))) + [(max(x), 0)]\n",
    "poly = Polygon(boundary, alpha=0.25)\n",
    "ax.add_patch(poly)\n",
    "plt.text(7, 5, 'area is {0:.2f}'.format(area))\n",
    "\n",
    "plt.savefig('asedler_01.png')\n",
    "plt.legend()\n",
    "plt.show()"
   ]
  },
  {
   "cell_type": "code",
   "execution_count": 42,
   "metadata": {},
   "outputs": [
    {
     "name": "stdout",
     "output_type": "stream",
     "text": [
      "linear BIC: 27.03505236755572\n",
      "cubic BIC: 27.4161371622341\n"
     ]
    }
   ],
   "source": [
    "# Part 6\n",
    "def BIC(y, yhat, k, weight = 1):\n",
    "    err = y - yhat\n",
    "    sigma = np.std(np.real(err))\n",
    "    n = len(y)\n",
    "    B = n*np.log(sigma**2) + weight*k*np.log(n)\n",
    "    return B\n",
    "\n",
    "print('linear BIC: {}'.format(BIC(y,linear_p(x),1)))\n",
    "print('cubic BIC: {}'.format(BIC(y,cubic_p(x),3)))"
   ]
  }
 ],
 "metadata": {
  "kernelspec": {
   "display_name": "Python 3",
   "language": "python",
   "name": "python3"
  },
  "language_info": {
   "codemirror_mode": {
    "name": "ipython",
    "version": 3
   },
   "file_extension": ".py",
   "mimetype": "text/x-python",
   "name": "python",
   "nbconvert_exporter": "python",
   "pygments_lexer": "ipython3",
   "version": "3.6.4"
  }
 },
 "nbformat": 4,
 "nbformat_minor": 2
}
