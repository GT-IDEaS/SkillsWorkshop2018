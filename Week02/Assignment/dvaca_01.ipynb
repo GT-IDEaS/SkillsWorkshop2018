{
 "cells": [
  {
   "cell_type": "markdown",
   "metadata": {},
   "source": [
    "Data"
   ]
  },
  {
   "cell_type": "code",
   "execution_count": 1,
   "metadata": {
    "collapsed": true
   },
   "outputs": [],
   "source": [
    "import numpy as np\n",
    "x = [ 1., 1.5, 2., 2.5, 3., 3.5, 4., 4.5, 5., 5.5, 6., 6.5, 7., 7.5, 8., 8.5, 9., 9.5, 10. ]\n",
    "y = [3.43, 4.94, 6.45, 9.22, 6.32, 6.11, 4.63, 8.95, 7.8, 8.35, 11.45, 14.71, 11.97, 12.46, 17.42, 17.0, 15.45, 19.15, 20.86]\n",
    "x=np.asarray(x)\n",
    "y=np.asarray(y)"
   ]
  },
  {
   "cell_type": "markdown",
   "metadata": {},
   "source": [
    "Fit a linear curve to the data"
   ]
  },
  {
   "cell_type": "code",
   "execution_count": 2,
   "metadata": {
    "collapsed": true
   },
   "outputs": [],
   "source": [
    "from scipy.stats import linregress\n",
    "slope,intercept,rvalue,pvalue,stderr=linregress(x,y)"
   ]
  },
  {
   "cell_type": "markdown",
   "metadata": {},
   "source": [
    "Fit a cubic curve using the SciPy library "
   ]
  },
  {
   "cell_type": "code",
   "execution_count": 3,
   "metadata": {},
   "outputs": [
    {
     "data": {
      "text/plain": [
       "array([ -4.77843450e-04,   1.49438302e-01,   1.54461198e-01,\n",
       "         4.52517028e+00])"
      ]
     },
     "execution_count": 3,
     "metadata": {},
     "output_type": "execute_result"
    }
   ],
   "source": [
    "coeff = np.polyfit(x, y, 3)\n",
    "coeff"
   ]
  },
  {
   "cell_type": "markdown",
   "metadata": {},
   "source": [
    "Find the area underneath the cubic curve over the domain of the data using the tools in SciPy"
   ]
  },
  {
   "cell_type": "code",
   "execution_count": 4,
   "metadata": {
    "collapsed": true
   },
   "outputs": [],
   "source": [
    "import scipy.integrate\n",
    "f = lambda x:coeff[0]*x**3+coeff[1]*x**2+coeff[2]*x+coeff[3]\n",
    "area = scipy.integrate.quad(f, x[0], x[len(x)-1])"
   ]
  },
  {
   "cell_type": "markdown",
   "metadata": {},
   "source": [
    "Plot the data, the linear fit, and the cubic fit in Matplotlib.  Make sure\n",
    "to give the plot a title and an x and y label. "
   ]
  },
  {
   "cell_type": "code",
   "execution_count": 5,
   "metadata": {},
   "outputs": [
    {
     "data": {
      "image/png": "[encoded data removed]",
      "text/plain": [
       "<matplotlib.figure.Figure at 0x10e74e7f0>"
      ]
     },
     "metadata": {},
     "output_type": "display_data"
    }
   ],
   "source": [
    "import matplotlib.pyplot as plt\n",
    "plt.figure()\n",
    "plt.scatter(x,y)\n",
    "plt.plot(x,slope*x+intercept,\n",
    "        x,coeff[0]*x**3+coeff[1]*x**2+coeff[2]*x+coeff[3])\n",
    "plt.axis([0,11,0,22])\n",
    "plt.legend(['linear regression','cubic regression'])\n",
    "plt.title(\"IDEaS Summer Workshop 2018 - Assigment 02\")\n",
    "plt.xlabel(\"x\")\n",
    "plt.ylabel(\"y\")\n",
    "plt.text(6,7,'Area - cubic function: %.2f' % area[0] )\n",
    "plt.savefig('dvaca_01.png', blox_inches='tight',dpi=200)\n",
    "plt.show()"
   ]
  },
  {
   "cell_type": "markdown",
   "metadata": {
    "collapsed": true
   },
   "source": [
    "Use the Bayesian information criterion to justify which model (linear or cubic) is preferable.  Include this justification in your journal entry for the week."
   ]
  },
  {
   "cell_type": "code",
   "execution_count": 14,
   "metadata": {},
   "outputs": [
    {
     "name": "stdout",
     "output_type": "stream",
     "text": [
      "[27.035052367555721, 27.416137162234101]\n"
     ]
    }
   ],
   "source": [
    "\n",
    "def BIC(y, yhat, k, weight = 1):\n",
    "    err = y - yhat\n",
    "    sigma = np.std(np.real(err))\n",
    "    n = len(y)\n",
    "    B = n*np.log(sigma**2) + weight*k*np.log(n)\n",
    "    return B\n",
    "\n",
    "err = []\n",
    "poly_range = [1,3]\n",
    "for i in poly_range:\n",
    "    coefficients = np.polyfit(x, y, i)\n",
    "    p = np.poly1d(coefficients)\n",
    "    err.append(BIC(y,p(x),i))\n",
    "\n",
    "print(err)"
   ]
  },
  {
   "cell_type": "code",
   "execution_count": null,
   "metadata": {
    "collapsed": true
   },
   "outputs": [],
   "source": []
  },
  {
   "cell_type": "code",
   "execution_count": null,
   "metadata": {
    "collapsed": true
   },
   "outputs": [],
   "source": []
  }
 ],
 "metadata": {
  "kernelspec": {
   "display_name": "Python 3",
   "language": "python",
   "name": "python3"
  },
  "language_info": {
   "codemirror_mode": {
    "name": "ipython",
    "version": 3
   },
   "file_extension": ".py",
   "mimetype": "text/x-python",
   "name": "python",
   "nbconvert_exporter": "python",
   "pygments_lexer": "ipython3",
   "version": "3.6.2"
  }
 },
 "nbformat": 4,
 "nbformat_minor": 2
}
