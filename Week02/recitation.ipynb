{
 "cells": [
  {
   "cell_type": "code",
   "execution_count": null,
   "metadata": {},
   "outputs": [],
   "source": [
    "!pip install matplotlib\n",
    "!pip install numpy\n",
    "!pip install scipy"
   ]
  },
  {
   "cell_type": "code",
   "execution_count": null,
   "metadata": {},
   "outputs": [],
   "source": [
    "%matplotlib inline\n",
    "import matplotlib.pyplot as plt\n",
    "from IPython.display import Image"
   ]
  },
  {
   "cell_type": "markdown",
   "metadata": {
    "slideshow": {
     "slide_type": "slide"
    }
   },
   "source": [
    "# Numpy -  multidimensional data arrays"
   ]
  },
  {
   "cell_type": "markdown",
   "metadata": {
    "slideshow": {
     "slide_type": "subslide"
    }
   },
   "source": [
    "## Introduction\n",
    "\n",
    "Numpy is not part of the \"standard library\", but it might as well be for engineers. Numpy is Python's answer to Matlab - the \"back end\" is implemented in C so its performance is very fast (comparable to Matlab)."
   ]
  },
  {
   "cell_type": "code",
   "execution_count": null,
   "metadata": {
    "slideshow": {
     "slide_type": "subslide"
    }
   },
   "outputs": [],
   "source": [
    "import numpy as np"
   ]
  },
  {
   "cell_type": "code",
   "execution_count": null,
   "metadata": {
    "slideshow": {
     "slide_type": "subslide"
    }
   },
   "outputs": [],
   "source": [
    "## Creating `numpy` arrays\n",
    "\n",
    "There are a number of ways to initialize new numpy arrays, for example from\n",
    "\n",
    "* a Python list or tuples\n",
    "* using functions that are dedicated to generating numpy arrays, such as `arange`, `linspace`, etc.\n",
    "* reading data from files"
   ]
  },
  {
   "cell_type": "code",
   "execution_count": null,
   "metadata": {
    "slideshow": {
     "slide_type": "slide"
    }
   },
   "outputs": [],
   "source": [
    "# a vector: the argument to the array function is a Python list\n",
    "v = np.array([1,2,3,4])\n",
    "\n",
    "print(v)\n",
    "\n",
    "\n",
    "# a matrix: the argument to the array function is a nested Python list\n",
    "M = np.array([[1, 2], [3, 4]])\n",
    "\n",
    "print(M)\n",
    "\n",
    "type(v), type(M)"
   ]
  },
  {
   "cell_type": "markdown",
   "metadata": {
    "slideshow": {
     "slide_type": "subslide"
    }
   },
   "source": [
    "### Creating arrays with functions"
   ]
  },
  {
   "cell_type": "markdown",
   "metadata": {
    "slideshow": {
     "slide_type": "subslide"
    }
   },
   "source": [
    "It is often more efficient to generate large arrays instead of creating them from lists. There are a few useful functions for this in numpy:\n",
    "\n",
    "* `np.arange` - create a range with a specified step size (endpoints not included)\n",
    "* `np.linspace` - create a range with a specified number of points (endpoints *are* included)\n",
    "* `np.logspace` - create a range with a specified number of points in log space (endpoints *are* included)\n",
    "* `np.mgrid` - create points on a multi-dimensional grid (similar to meshgrid in matlab)\n",
    "* `np.random.rand` - create random number matrix from a uniform distribution\n",
    "* `np.random.randn` - create random number matrix from a standard normal distribution\n",
    "* `np.zeros` - create a matrix of zeros\n",
    "* `np.ones` - create a matrix of ones\n",
    "* `np.eye` - create identity matrix"
   ]
  },
  {
   "cell_type": "markdown",
   "metadata": {
    "slideshow": {
     "slide_type": "subslide"
    }
   },
   "source": [
    "## Manipulating arrays\n",
    "\n",
    "Once we generate `numpy` arrays, we need to interact with them. This involves a few operations:\n",
    "\n",
    "* indexing - accessing certain elements\n",
    "* index \"slicing\" - accessing certain subsets of elements\n",
    "* fancy indexing - combinations of indexing and slicing\n",
    "\n",
    "This is not very different from Matlab."
   ]
  },
  {
   "cell_type": "markdown",
   "metadata": {
    "slideshow": {
     "slide_type": "subslide"
    }
   },
   "source": [
    "### Index slicing\n",
    "\n",
    "Index slicing is the name for the syntax `M[lower:upper:step]` to extract a subset of an array."
   ]
  },
  {
   "cell_type": "markdown",
   "metadata": {},
   "source": [
    "## Activity:"
   ]
  },
  {
   "cell_type": "code",
   "execution_count": null,
   "metadata": {},
   "outputs": [],
   "source": []
  },
  {
   "cell_type": "markdown",
   "metadata": {
    "slideshow": {
     "slide_type": "slide"
    }
   },
   "source": [
    "# matplotlib - Plotting in Python"
   ]
  },
  {
   "cell_type": "markdown",
   "metadata": {
    "slideshow": {
     "slide_type": "subslide"
    }
   },
   "source": [
    "Matplotlib has advantages:\n",
    "\n",
    "* Easy to get started (MATLAB-like interface)\n",
    "* Support for LaTeX formatted labels and texts\n",
    "* Output in many formats, including PNG, PDF, SVG, EPS, and PGF.\n",
    "* Extensive gallery of examples with source code (https://matplotlib.org/gallery.html)\n",
    "* Programmatic control over all aspects of figures\n",
    "\n",
    "Programmatic control is a blessing and a curse...\n",
    "\n",
    "Other plotting tools are available (Plotly, Bokeh, D3, ...) but `matplotlib` is the workhorse."
   ]
  },
  {
   "cell_type": "markdown",
   "metadata": {
    "slideshow": {
     "slide_type": "subslide"
    }
   },
   "source": [
    "Matplotlib can be used in two ways:\n",
    "\n",
    "* `pylab` modules (works like MATLAB)\n",
    "* object-oreinted interface (harder but more powerful)"
   ]
  },
  {
   "cell_type": "code",
   "execution_count": null,
   "metadata": {},
   "outputs": [],
   "source": [
    "%matplotlib inline"
   ]
  },
  {
   "cell_type": "markdown",
   "metadata": {
    "slideshow": {
     "slide_type": "subslide"
    }
   },
   "source": [
    "## MATLAB-like API\n",
    "\n",
    "The easiest way to get started with plotting using matplotlib is often to use the MATLAB-like API provided by matplotlib. \n",
    "\n",
    "It is designed to be compatible with MATLAB's plotting functions, so it is easy to get started with if you are familiar with MATLAB.\n",
    "\n",
    "To use this API from matplotlib, we need to include the symbols in the `pylab` module: "
   ]
  },
  {
   "cell_type": "code",
   "execution_count": null,
   "metadata": {
    "slideshow": {
     "slide_type": "subslide"
    }
   },
   "outputs": [],
   "source": [
    "from pylab import *\n",
    "\n",
    "x = np.linspace(0, 5, 10)\n",
    "y = x ** 2\n",
    "\n",
    "figure()\n",
    "plot(x, y)\n",
    "xlabel('x')\n",
    "ylabel('y')\n",
    "title('title')\n",
    "show()"
   ]
  },
  {
   "cell_type": "markdown",
   "metadata": {
    "slideshow": {
     "slide_type": "subslide"
    }
   },
   "source": [
    "Most of the plotting related functions in MATLAB are covered by the `pylab` module. For example, subplot and color/symbol selection:"
   ]
  },
  {
   "cell_type": "code",
   "execution_count": null,
   "metadata": {
    "scrolled": true,
    "slideshow": {
     "slide_type": "fragment"
    }
   },
   "outputs": [],
   "source": [
    "subplot(1,2,1)\n",
    "plot(x, y, 'r--')\n",
    "subplot(1,2,2)\n",
    "plot(y, x, 'g*-');"
   ]
  },
  {
   "cell_type": "markdown",
   "metadata": {
    "slideshow": {
     "slide_type": "subslide"
    }
   },
   "source": [
    "## The matplotlib object-oriented interface\n",
    "\n",
    "The `pylab` interface is easy, but limited.\n",
    "\n",
    "* Use simple global functions that match with MATLAB\n",
    "* Objects are implicitly defined and hidden from users.\n",
    "\n",
    "The `pyplot` object-oriented interface is harder to learn, but much more powerful.\n",
    "\n",
    "* Use objects instead of global functions.\n",
    "* Explicitly define objects - much better for multiple figures."
   ]
  },
  {
   "cell_type": "code",
   "execution_count": null,
   "metadata": {
    "slideshow": {
     "slide_type": "fragment"
    }
   },
   "outputs": [],
   "source": [
    "import matplotlib\n",
    "import matplotlib.pyplot as plt\n",
    "import numpy as np"
   ]
  },
  {
   "cell_type": "code",
   "execution_count": null,
   "metadata": {
    "slideshow": {
     "slide_type": "subslide"
    }
   },
   "outputs": [],
   "source": [
    "# fig = plt.figure()\n",
    "\n",
    "axes = fig.add_axes([0.1, 0.1, 0.8, 0.8]) # left, bottom, width, height (range 0 to 1)\n",
    "\n",
    "axes.plot(x, y)\n",
    "\n",
    "axes.set_xlabel('x')\n",
    "axes.set_ylabel('y')\n",
    "axes.set_title('title');"
   ]
  },
  {
   "cell_type": "code",
   "execution_count": null,
   "metadata": {
    "slideshow": {
     "slide_type": "subslide"
    }
   },
   "outputs": [],
   "source": [
    "# fig = plt.figure()\n",
    "\n",
    "axes1 = fig.add_axes([0.1, 0.1, 0.8, 0.8]) # main axes\n",
    "axes2 = fig.add_axes([0.2, 0.5, 0.4, 0.3]) # inset axes\n",
    "\n",
    "# main figure\n",
    "axes1.plot(x, y, 'r')\n",
    "axes1.set_xlabel('x')\n",
    "axes1.set_ylabel('y')\n",
    "axes1.set_title('title')\n",
    "\n",
    "# insert\n",
    "axes2.plot(y, x, 'g')\n",
    "axes2.set_xlabel('y')\n",
    "axes2g.set_ylabel('x')\n",
    "axes2.set_title('insert title');"
   ]
  },
  {
   "cell_type": "markdown",
   "metadata": {
    "slideshow": {
     "slide_type": "subslide"
    }
   },
   "source": [
    "### Saving figures\n",
    "\n",
    "To save a figure to a file we can use the `savefig` method in the `Figure` class. You can output in many formats, but the most common are:\n",
    "\n",
    "* PNG (raster)\n",
    "* JPG (raster)\n",
    "* SVG (vector)\n",
    "* PDF (vector)\n",
    "\n",
    "The SVG and PDF formats are great because they can be edited afterward with vector graphics programs like Inkscape or Adobe Illustrator."
   ]
  },
  {
   "cell_type": "code",
   "execution_count": null,
   "metadata": {},
   "outputs": [],
   "source": [
    "fig.savefig('cool_plot.pdf')"
   ]
  },
  {
   "cell_type": "markdown",
   "metadata": {},
   "source": [
    "## The Gallery\n",
    "\n",
    "Matplotlib is a complicated library. The matplotlib gallery is the most useful resource for learning matplotlib\n",
    "\n",
    "https://matplotlib.org/gallery.html"
   ]
  },
  {
   "cell_type": "markdown",
   "metadata": {
    "slideshow": {
     "slide_type": "subslide"
    }
   },
   "source": [
    "## Activity: get a few plots from the matplotlib gallery (plots that does not import data) and get them running below"
   ]
  },
  {
   "cell_type": "code",
   "execution_count": null,
   "metadata": {},
   "outputs": [],
   "source": [
    "# fake data\n",
    "np.random.seed(937)\n",
    "data = np.random.lognormal(size=(37, 4), mean=1.5, sigma=1.75)\n",
    "labels = list('ABCD')\n",
    "fs = 10  # fontsize\n",
    "\n",
    "# demonstrate how to toggle the display of different elements:\n",
    "fig, axes = plt.subplots(nrows=2, ncols=3, figsize=(6, 6), sharey=True)\n",
    "axes[0, 0].boxplot(data, labels=labels)\n",
    "axes[0, 0].set_title('Default', fontsize=fs)\n",
    "\n",
    "axes[0, 1].boxplot(data, labels=labels, showmeans=True)\n",
    "axes[0, 1].set_title('showmeans=True', fontsize=fs)\n",
    "\n",
    "axes[0, 2].boxplot(data, labels=labels, showmeans=True, meanline=True)\n",
    "axes[0, 2].set_title('showmeans=True,\\nmeanline=True', fontsize=fs)\n",
    "\n",
    "axes[1, 0].boxplot(data, labels=labels, showbox=False, showcaps=False)\n",
    "tufte_title = 'Tufte Style \\n(showbox=False,\\nshowcaps=False)'\n",
    "axes[1, 0].set_title(tufte_title, fontsize=fs)\n",
    "\n",
    "axes[1, 1].boxplot(data, labels=labels, notch=True, bootstrap=10000)\n",
    "axes[1, 1].set_title('notch=True,\\nbootstrap=10000', fontsize=fs)\n",
    "\n",
    "axes[1, 2].boxplot(data, labels=labels, showfliers=False)\n",
    "axes[1, 2].set_title('showfliers=False', fontsize=fs)\n",
    "\n",
    "for ax in axes.flatten():\n",
    "    ax.set_yscale('log')\n",
    "    ax.set_yticklabels([])\n",
    "\n",
    "fig.subplots_adjust(hspace=0.4)\n",
    "plt.show()\n",
    "\n",
    "\n",
    "# demonstrate how to customize the display different elements:\n",
    "boxprops = dict(linestyle='--', linewidth=3, color='darkgoldenrod')\n",
    "flierprops = dict(marker='o', markerfacecolor='green', markersize=12,\n",
    "                  linestyle='none')\n",
    "medianprops = dict(linestyle='-.', linewidth=2.5, color='firebrick')\n",
    "meanpointprops = dict(marker='D', markeredgecolor='black',\n",
    "                      markerfacecolor='firebrick')\n",
    "meanlineprops = dict(linestyle='--', linewidth=2.5, color='purple')\n",
    "\n",
    "fig, axes = plt.subplots(nrows=2, ncols=3, figsize=(6, 6), sharey=True)\n",
    "axes[0, 0].boxplot(data, boxprops=boxprops)\n",
    "axes[0, 0].set_title('Custom boxprops', fontsize=fs)\n",
    "\n",
    "axes[0, 1].boxplot(data, flierprops=flierprops, medianprops=medianprops)\n",
    "axes[0, 1].set_title('Custom medianprops\\nand flierprops', fontsize=fs)\n",
    "\n",
    "axes[0, 2].boxplot(data, whis='range')\n",
    "axes[0, 2].set_title('whis=\"range\"', fontsize=fs)\n",
    "\n",
    "axes[1, 0].boxplot(data, meanprops=meanpointprops, meanline=False,\n",
    "                   showmeans=True)\n",
    "axes[1, 0].set_title('Custom mean\\nas point', fontsize=fs)\n",
    "\n",
    "axes[1, 1].boxplot(data, meanprops=meanlineprops, meanline=True,\n",
    "                   showmeans=True)\n",
    "axes[1, 1].set_title('Custom mean\\nas line', fontsize=fs)\n",
    "\n",
    "axes[1, 2].boxplot(data, whis=[15, 85])\n",
    "axes[1, 2].set_title('whis=[15, 85]\\n#percentiles', fontsize=fs)\n",
    "\n",
    "for ax in axes.flatten():\n",
    "    ax.set_yscale('log')\n",
    "    ax.set_yticklabels([])\n",
    "\n",
    "fig.suptitle(\"I never said they'd be pretty\")\n",
    "fig.subplots_adjust(hspace=0.4)\n",
    "plt.show()"
   ]
  },
  {
   "cell_type": "markdown",
   "metadata": {
    "slideshow": {
     "slide_type": "slide"
    }
   },
   "source": [
    " # SciPy - Library of scientific algorithms for Python"
   ]
  },
  {
   "cell_type": "markdown",
   "metadata": {
    "slideshow": {
     "slide_type": "subslide"
    }
   },
   "source": [
    "The SciPy framework builds on top of the low-level NumPy framework for multidimensional arrays, and provides a large number of higher-level scientific algorithms. Today we will discuss a few that are most useful for the average scientist:\n",
    "\n",
    "* Integration ([scipy.integrate](http://docs.scipy.org/doc/scipy/reference/integrate.html))\n",
    "* Optimization ([scipy.optimize](http://docs.scipy.org/doc/scipy/reference/optimize.html))\n",
    "* Interpolation ([scipy.interpolate](http://docs.scipy.org/doc/scipy/reference/interpolate.html))\n",
    "* Linear Algebra ([scipy.linalg](http://docs.scipy.org/doc/scipy/reference/linalg.html))\n",
    "* Statistics ([scipy.stats](http://docs.scipy.org/doc/scipy/reference/stats.html))\n",
    "* File IO ([scipy.io](http://docs.scipy.org/doc/scipy/reference/io.html))\n",
    "\n"
   ]
  },
  {
   "cell_type": "markdown",
   "metadata": {
    "slideshow": {
     "slide_type": "slide"
    }
   },
   "source": [
    "## Linear Regression\n",
    "\n",
    "Linear regression is very easy in scipy."
   ]
  },
  {
   "cell_type": "code",
   "execution_count": null,
   "metadata": {
    "slideshow": {
     "slide_type": "subslide"
    }
   },
   "outputs": [],
   "source": [
    "x = np.arange(0,11,1)  #make some data\n",
    "y = 3*x+1\n",
    "y = y.astype('float64')\n",
    "y += np.random.randn(len(x))"
   ]
  },
  {
   "cell_type": "code",
   "execution_count": null,
   "metadata": {
    "slideshow": {
     "slide_type": "subslide"
    }
   },
   "outputs": [],
   "source": [
    "from scipy.stats import linregress\n",
    "\n",
    "slope, intercept, r_value, p_value, std_err = linregress(x,y)\n",
    "print(slope,intercept)\n",
    "\n",
    "plt.scatter(x,y)\n",
    "plt.plot(x,x*slope+intercept)"
   ]
  },
  {
   "cell_type": "code",
   "execution_count": null,
   "metadata": {
    "slideshow": {
     "slide_type": "slide"
    }
   },
   "outputs": [],
   "source": [
    "## Polynomial fitting is not recommended\n",
    "\n",
    "Fitting data to polynomials is quite easy, but often a very bad solution for complex models.\n",
    "\n",
    "* higher orders very sensative\n",
    "* very easy to overfit\n",
    "* missing the true complexity of your system\n",
    "\n",
    "that said, here's how to do a polynomial fit\n",
    "\n",
    "polynomial fitting is easiest in numpy with `np.polyfit`"
   ]
  },
  {
   "cell_type": "code",
   "execution_count": 4,
   "metadata": {
    "slideshow": {
     "slide_type": "subslide"
    }
   },
   "outputs": [
    {
     "ename": "NameError",
     "evalue": "name 'np' is not defined",
     "output_type": "error",
     "traceback": [
      "\u001b[0;31m---------------------------------------------------------------------------\u001b[0m",
      "\u001b[0;31mNameError\u001b[0m                                 Traceback (most recent call last)",
      "\u001b[0;32m<ipython-input-4-05b93745ab78>\u001b[0m in \u001b[0;36m<module>\u001b[0;34m()\u001b[0m\n\u001b[0;32m----> 1\u001b[0;31m \u001b[0mx\u001b[0m \u001b[0;34m=\u001b[0m \u001b[0mnp\u001b[0m\u001b[0;34m.\u001b[0m\u001b[0mlinspace\u001b[0m\u001b[0;34m(\u001b[0m\u001b[0;36m0\u001b[0m\u001b[0;34m,\u001b[0m \u001b[0;36m1\u001b[0m\u001b[0;34m,\u001b[0m \u001b[0;36m20\u001b[0m\u001b[0;34m)\u001b[0m\u001b[0;34m\u001b[0m\u001b[0m\n\u001b[0m\u001b[1;32m      2\u001b[0m \u001b[0my\u001b[0m \u001b[0;34m=\u001b[0m \u001b[0mnp\u001b[0m\u001b[0;34m.\u001b[0m\u001b[0mcos\u001b[0m\u001b[0;34m(\u001b[0m\u001b[0mx\u001b[0m\u001b[0;34m)\u001b[0m \u001b[0;34m+\u001b[0m \u001b[0;36m0.3\u001b[0m\u001b[0;34m*\u001b[0m\u001b[0mnp\u001b[0m\u001b[0;34m.\u001b[0m\u001b[0mrandom\u001b[0m\u001b[0;34m.\u001b[0m\u001b[0mrand\u001b[0m\u001b[0;34m(\u001b[0m\u001b[0;36m20\u001b[0m\u001b[0;34m)\u001b[0m \u001b[0;31m#clearly not a polynomial, but we can fit it\u001b[0m\u001b[0;34m\u001b[0m\u001b[0m\n\u001b[1;32m      3\u001b[0m \u001b[0mcoefficients\u001b[0m \u001b[0;34m=\u001b[0m \u001b[0mnp\u001b[0m\u001b[0;34m.\u001b[0m\u001b[0mpolyfit\u001b[0m\u001b[0;34m(\u001b[0m\u001b[0mx\u001b[0m\u001b[0;34m,\u001b[0m \u001b[0my\u001b[0m\u001b[0;34m,\u001b[0m \u001b[0;36m3\u001b[0m\u001b[0;34m)\u001b[0m \u001b[0;31m#find the coefficients\u001b[0m\u001b[0;34m\u001b[0m\u001b[0m\n\u001b[1;32m      4\u001b[0m \u001b[0mp\u001b[0m \u001b[0;34m=\u001b[0m \u001b[0mnp\u001b[0m\u001b[0;34m.\u001b[0m\u001b[0mpoly1d\u001b[0m\u001b[0;34m(\u001b[0m\u001b[0mcoefficients\u001b[0m\u001b[0;34m)\u001b[0m\u001b[0;31m#pass the coefficients into np.poly1d to make a function\u001b[0m\u001b[0;34m\u001b[0m\u001b[0m\n\u001b[1;32m      5\u001b[0m \u001b[0;34m\u001b[0m\u001b[0m\n",
      "\u001b[0;31mNameError\u001b[0m: name 'np' is not defined"
     ]
    }
   ],
   "source": [
    "x = np.linspace(0, 1, 20)\n",
    "y = np.cos(x) + 0.3*np.random.rand(20) #clearly not a polynomial, but we can fit it\n",
    "coefficients = np.polyfit(x, y, 3) #find the coefficients\n",
    "p = np.poly1d(coefficients)#pass the coefficients into np.poly1d to make a function\n",
    "\n",
    "t = np.linspace(0, 1, 200)\n",
    "plt.scatter(x, y)\n",
    "plt.plot(t,p(t),'-')\n",
    "plt.show()"
   ]
  },
  {
   "cell_type": "markdown",
   "metadata": {
    "slideshow": {
     "slide_type": "subslide"
    }
   },
   "source": [
    "But what about if we continue to add orders to the polynomial? Let's plot the error as we increase the order. Write a for loop that evaluates the sum of squaared error for polynomial models of order 1-14 for the above x,y data "
   ]
  },
  {
   "cell_type": "code",
   "execution_count": 25,
   "metadata": {
    "slideshow": {
     "slide_type": "subslide"
    }
   },
   "outputs": [
    {
     "ename": "ValueError",
     "evalue": "operands could not be broadcast together with shapes (20,) (200,) ",
     "output_type": "error",
     "traceback": [
      "\u001b[0;31m---------------------------------------------------------------------------\u001b[0m",
      "\u001b[0;31mValueError\u001b[0m                                Traceback (most recent call last)",
      "\u001b[0;32m<ipython-input-25-aff0b558df24>\u001b[0m in \u001b[0;36m<module>\u001b[0;34m()\u001b[0m\n\u001b[1;32m      4\u001b[0m     \u001b[0mcoefficients\u001b[0m \u001b[0;34m=\u001b[0m \u001b[0mnp\u001b[0m\u001b[0;34m.\u001b[0m\u001b[0mpolyfit\u001b[0m\u001b[0;34m(\u001b[0m\u001b[0mx\u001b[0m\u001b[0;34m,\u001b[0m \u001b[0my\u001b[0m\u001b[0;34m,\u001b[0m \u001b[0mi\u001b[0m\u001b[0;34m)\u001b[0m\u001b[0;34m\u001b[0m\u001b[0m\n\u001b[1;32m      5\u001b[0m     \u001b[0mp\u001b[0m \u001b[0;34m=\u001b[0m \u001b[0mnp\u001b[0m\u001b[0;34m.\u001b[0m\u001b[0mpoly1d\u001b[0m\u001b[0;34m(\u001b[0m\u001b[0mcoefficients\u001b[0m\u001b[0;34m)\u001b[0m\u001b[0;34m\u001b[0m\u001b[0m\n\u001b[0;32m----> 6\u001b[0;31m     \u001b[0merr\u001b[0m\u001b[0;34m.\u001b[0m\u001b[0mappend\u001b[0m\u001b[0;34m(\u001b[0m\u001b[0msum\u001b[0m\u001b[0;34m(\u001b[0m\u001b[0;34m(\u001b[0m\u001b[0my\u001b[0m\u001b[0;34m-\u001b[0m\u001b[0mp\u001b[0m\u001b[0;34m(\u001b[0m\u001b[0mt\u001b[0m\u001b[0;34m)\u001b[0m\u001b[0;34m)\u001b[0m\u001b[0;34m**\u001b[0m\u001b[0;36m2\u001b[0m\u001b[0;34m)\u001b[0m\u001b[0;34m)\u001b[0m\u001b[0;34m\u001b[0m\u001b[0m\n\u001b[0m\u001b[1;32m      7\u001b[0m \u001b[0mplt\u001b[0m\u001b[0;34m.\u001b[0m\u001b[0mplot\u001b[0m\u001b[0;34m(\u001b[0m\u001b[0mrange\u001b[0m\u001b[0;34m(\u001b[0m\u001b[0;36m1\u001b[0m\u001b[0;34m,\u001b[0m\u001b[0;36m14\u001b[0m\u001b[0;34m)\u001b[0m\u001b[0;34m,\u001b[0m\u001b[0merr\u001b[0m\u001b[0;34m)\u001b[0m\u001b[0;34m\u001b[0m\u001b[0m\n\u001b[1;32m      8\u001b[0m \u001b[0mplt\u001b[0m\u001b[0;34m.\u001b[0m\u001b[0mylabel\u001b[0m\u001b[0;34m(\u001b[0m\u001b[0;34m'sum of squared error'\u001b[0m\u001b[0;34m)\u001b[0m\u001b[0;34m\u001b[0m\u001b[0m\n",
      "\u001b[0;31mValueError\u001b[0m: operands could not be broadcast together with shapes (20,) (200,) "
     ]
    }
   ],
   "source": [
    "err = []\n",
    "poly_range = range(1,14)\n",
    "for i in poly_range:\n",
    "    coefficients = np.polyfit(x, y, i)\n",
    "    p = np.poly1d(coefficients)\n",
    "    err.append(sum((y-p(t))**2))\n",
    "plt.plot(range(1,14),err)\n",
    "plt.ylabel('sum of squared error')\n",
    "plt.xlabel('polynomial order')\n",
    "plt.figure()\n",
    "plt.scatter(x, y)\n",
    "plt.plot(t,p(t),'-')"
   ]
  },
  {
   "cell_type": "markdown",
   "metadata": {
    "slideshow": {
     "slide_type": "subslide"
    }
   },
   "source": [
    "Is this good?"
   ]
  },
  {
   "cell_type": "markdown",
   "metadata": {},
   "source": [
    "## Introducing the Bayesian information criterion\n",
    "\n",
    "Bayesian information criterion (BIC) attempts to balance the complexity of a model with its goodness of fit, it is defined to be:\n",
    "\n",
    "$ BIC = n*\\ln{(\\sigma^2_e)} + k*\\ln(n)$\n",
    "\n",
    "where $n$ is the number of data points, $\\sigma_e$ is the standard deviation of the error, and $k$ is the number of parameters.\n",
    "\n",
    "(Lower BIC is better)"
   ]
  },
  {
   "cell_type": "code",
   "execution_count": 3,
   "metadata": {},
   "outputs": [
    {
     "ename": "NameError",
     "evalue": "name 'y' is not defined",
     "output_type": "error",
     "traceback": [
      "\u001b[0;31m---------------------------------------------------------------------------\u001b[0m",
      "\u001b[0;31mNameError\u001b[0m                                 Traceback (most recent call last)",
      "\u001b[0;32m<ipython-input-3-319a598db581>\u001b[0m in \u001b[0;36m<module>\u001b[0;34m()\u001b[0m\n\u001b[1;32m      7\u001b[0m     \u001b[0;32mreturn\u001b[0m \u001b[0mB\u001b[0m\u001b[0;34m\u001b[0m\u001b[0m\n\u001b[1;32m      8\u001b[0m \u001b[0;34m\u001b[0m\u001b[0m\n\u001b[0;32m----> 9\u001b[0;31m \u001b[0mh\u001b[0m \u001b[0;34m=\u001b[0m \u001b[0mBIC\u001b[0m\u001b[0;34m(\u001b[0m\u001b[0my\u001b[0m\u001b[0;34m,\u001b[0m\u001b[0mp\u001b[0m\u001b[0;34m(\u001b[0m\u001b[0mx\u001b[0m\u001b[0;34m)\u001b[0m\u001b[0;34m,\u001b[0m\u001b[0;36m3\u001b[0m\u001b[0;34m)\u001b[0m\u001b[0;34m\u001b[0m\u001b[0m\n\u001b[0m\u001b[1;32m     10\u001b[0m \u001b[0mprint\u001b[0m\u001b[0;34m(\u001b[0m\u001b[0mh\u001b[0m\u001b[0;34m)\u001b[0m\u001b[0;34m\u001b[0m\u001b[0m\n",
      "\u001b[0;31mNameError\u001b[0m: name 'y' is not defined"
     ]
    }
   ],
   "source": [
    "#here's a function that implements it\n",
    "def BIC(y, yhat, k, weight = 1):\n",
    "    err = y - yhat\n",
    "    sigma = np.std(np.real(err))\n",
    "    n = len(y)\n",
    "    B = n*np.log(sigma**2) + weight*k*np.log(n)\n",
    "    return B\n",
    "\n",
    "h = BIC(y,p(x),3)\n",
    "print(h)"
   ]
  },
  {
   "cell_type": "markdown",
   "metadata": {},
   "source": [
    "Let's repeat our analysis plotting the BIC, take a few minutes to do that"
   ]
  },
  {
   "cell_type": "code",
   "execution_count": null,
   "metadata": {},
   "outputs": [],
   "source": [
    "BIC = []\n",
    "poly_range = range(1,14)\n",
    "\n",
    "\n",
    "plt.plot(range(1,17),BIC)\n",
    "plt.ylabel('sum of squared error')\n",
    "plt.xlabel('polynomial order')"
   ]
  },
  {
   "cell_type": "markdown",
   "metadata": {},
   "source": [
    "Tools like BIC help guard against overfitting"
   ]
  },
  {
   "cell_type": "markdown",
   "metadata": {},
   "source": [
    "## Use Scipy Curve Fitting\n",
    "\n",
    "Let's extend our curve fitting to any function using scipy's `curve_fit` function. This enables us to perform non-linear curve fitting.\n"
   ]
  },
  {
   "cell_type": "code",
   "execution_count": 26,
   "metadata": {},
   "outputs": [
    {
     "name": "stdout",
     "output_type": "stream",
     "text": [
      "[-0.3705859  1.1700163]\n"
     ]
    },
    {
     "data": {
      "text/plain": [
       "[<matplotlib.lines.Line2D at 0x11578d470>]"
      ]
     },
     "execution_count": 26,
     "metadata": {},
     "output_type": "execute_result"
    },
    {
     "data": {
      "image/png": "[encoded data removed]",
      "text/plain": [
       "<matplotlib.figure.Figure at 0x115708048>"
      ]
     },
     "metadata": {},
     "output_type": "display_data"
    }
   ],
   "source": [
    "from scipy.optimize import curve_fit\n",
    "\n",
    "def line(x,m,b):\n",
    "    return m*x+b\n",
    "\n",
    "params, params_covariance = curve_fit(line,x,y)\n",
    "\n",
    "print(params)\n",
    "plt.figure()\n",
    "plt.scatter(x,y)\n",
    "plt.plot(np.linspace(x[0],x[-1],100),line(np.linspace(x[0],x[-1],100),*params))  #note passing in aruguments with *"
   ]
  },
  {
   "cell_type": "markdown",
   "metadata": {},
   "source": [
    "re-write the above to fit an exponenial function:\n",
    "\n",
    "$y = Ae^{kx}+C$\n",
    "\n",
    "(rerun the cell if the regression does not converge)"
   ]
  },
  {
   "cell_type": "code",
   "execution_count": null,
   "metadata": {},
   "outputs": [],
   "source": [
    "x = np.linspace(0, 1, 20)\n",
    "y = np.cos(x) + 0.3*np.random.rand(20) \n",
    "from scipy.optimize import curve_fit\n",
    "\n",
    "\n",
    "params, params_covariance = curve_fit(line,x,y)\n",
    "\n",
    "plt.figure()\n",
    "plt.scatter(x,y)\n",
    "plt.plot(np.linspace(x[0],x[-1],100),line(np.linspace(x[0],x[-1],100),*params))"
   ]
  },
  {
   "cell_type": "markdown",
   "metadata": {
    "slideshow": {
     "slide_type": "slide"
    }
   },
   "source": [
    "## Optimization\n",
    "\n",
    "Optimization (finding minima or maxima of a function) is a large field in mathematics, and optimization of complicated functions or in many variables can be rather involved. Here we will only look at a few very simple cases. For a more detailed introduction to optimization with SciPy see: http://scipy-lectures.github.com/advanced/mathematical_optimization/index.html"
   ]
  },
  {
   "cell_type": "markdown",
   "metadata": {
    "slideshow": {
     "slide_type": "subslide"
    }
   },
   "source": [
    "### Finding a minima\n",
    "\n",
    "Let's first look at how to find the minima of a simple function of a single variable:"
   ]
  },
  {
   "cell_type": "code",
   "execution_count": null,
   "metadata": {
    "slideshow": {
     "slide_type": "fragment"
    }
   },
   "outputs": [],
   "source": [
    "from scipy import optimize\n",
    "\n",
    "def f(x):\n",
    "    return 4*x**3 + (x-2)**2 + x**4\n",
    "\n",
    "fig, ax  = plt.subplots()\n",
    "x = np.linspace(-5, 3, 100)\n",
    "y = f(x)\n",
    "ax.plot(x, y);"
   ]
  },
  {
   "cell_type": "markdown",
   "metadata": {
    "slideshow": {
     "slide_type": "subslide"
    }
   },
   "source": [
    "There are many types of optimizers available. We will use the common `BFGS` and `CG` optimizers here, but you can read more in the [documentation](https://docs.scipy.org/doc/scipy/reference/optimize.html)."
   ]
  },
  {
   "cell_type": "code",
   "execution_count": null,
   "metadata": {
    "slideshow": {
     "slide_type": "fragment"
    }
   },
   "outputs": [],
   "source": [
    "from scipy.optimize import minimize\n",
    "x_min = minimize(f, -1, method='CG')  #minimize can take any kind of function, with any number of variables\n",
    "# method?\n",
    "# output?\n",
    "print(x_min.x)"
   ]
  },
  {
   "cell_type": "markdown",
   "metadata": {},
   "source": [
    "Lectures 3+4 of Johanssen: [http://github.com/jrjohansson/scientific-python-lectures](http://github.com/jrjohansson/scientific-python-lectures)\n",
    "\n",
    "Scipy:\n",
    "* http://www.scipy.org - The official web page for the SciPy project.\n",
    "* http://docs.scipy.org/doc/scipy/reference/tutorial/index.html - A tutorial on how to get started using SciPy. \n",
    "* https://github.com/scipy/scipy/ - The SciPy source code. \n",
    "\n",
    "Matplotlib:\n",
    "* http://www.matplotlib.org - The project web page for matplotlib.\n",
    "* https://github.com/matplotlib/matplotlib - The source code for matplotlib.\n",
    "* http://matplotlib.org/gallery.html - A large gallery showcaseing various types of plots matplotlib can create. Highly recommended! \n",
    "* http://www.loria.fr/~rougier/teaching/matplotlib - A good matplotlib tutorial.\n",
    "* http://scipy-lectures.github.io/matplotlib/matplotlib.html - Another good matplotlib reference.\n"
   ]
  }
 ],
 "metadata": {
  "anaconda-cloud": {},
  "celltoolbar": "Slideshow",
  "kernelspec": {
   "display_name": "Python 3",
   "language": "python",
   "name": "python3"
  },
  "language_info": {
   "codemirror_mode": {
    "name": "ipython",
    "version": 3
   },
   "file_extension": ".py",
   "mimetype": "text/x-python",
   "name": "python",
   "nbconvert_exporter": "python",
   "pygments_lexer": "ipython3",
   "version": "3.6.4"
  },
  "name": "_merged"
 },
 "nbformat": 4,
 "nbformat_minor": 1
}
