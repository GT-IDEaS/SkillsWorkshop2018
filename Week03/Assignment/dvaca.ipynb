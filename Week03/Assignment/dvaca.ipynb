{
 "cells": [
  {
   "cell_type": "markdown",
   "metadata": {},
   "source": [
    "## Challenge 1 - Combining Dataframes with pandas\n",
    "Create a new DataFrame by joining the contents of the surveys.csv and species.csv tables. Then calculate and plot the distribution of:\n",
    "\n",
    "    taxa by plot\n",
    "    taxa by sex by plot\n"
   ]
  },
  {
   "cell_type": "markdown",
   "metadata": {},
   "source": [
    "Import files"
   ]
  },
  {
   "cell_type": "code",
   "execution_count": 1,
   "metadata": {
    "collapsed": true
   },
   "outputs": [],
   "source": [
    "import pandas as pd\n",
    "import numpy as np\n",
    "surveys_df = pd.read_csv(\"data/surveys.csv\")\n",
    "species_df = pd.read_csv(\"data/species.csv\")"
   ]
  },
  {
   "cell_type": "markdown",
   "metadata": {},
   "source": [
    "Explore headers to define join keys"
   ]
  },
  {
   "cell_type": "code",
   "execution_count": 2,
   "metadata": {},
   "outputs": [
    {
     "name": "stdout",
     "output_type": "stream",
     "text": [
      "Index(['record_id', 'month', 'day', 'year', 'plot_id', 'species_id', 'sex',\n",
      "       'hindfoot_length', 'weight'],\n",
      "      dtype='object')\n",
      "Index(['species_id', 'genus', 'species', 'taxa'], dtype='object')\n"
     ]
    }
   ],
   "source": [
    "print(surveys_df.columns)\n",
    "print(species_df.columns)"
   ]
  },
  {
   "cell_type": "markdown",
   "metadata": {},
   "source": [
    "Merge both files using species_id\n",
    "If there species_id that do not have taxa, identify that taxa as Unidentified\n"
   ]
  },
  {
   "cell_type": "code",
   "execution_count": 3,
   "metadata": {},
   "outputs": [
    {
     "data": {
      "text/html": [
       "<div>\n",
       "<style>\n",
       "    .dataframe thead tr:only-child th {\n",
       "        text-align: right;\n",
       "    }\n",
       "\n",
       "    .dataframe thead th {\n",
       "        text-align: left;\n",
       "    }\n",
       "\n",
       "    .dataframe tbody tr th {\n",
       "        vertical-align: top;\n",
       "    }\n",
       "</style>\n",
       "<table border=\"1\" class=\"dataframe\">\n",
       "  <thead>\n",
       "    <tr style=\"text-align: right;\">\n",
       "      <th></th>\n",
       "      <th>record_id</th>\n",
       "      <th>month</th>\n",
       "      <th>day</th>\n",
       "      <th>year</th>\n",
       "      <th>plot_id</th>\n",
       "      <th>species_id</th>\n",
       "      <th>sex</th>\n",
       "      <th>hindfoot_length</th>\n",
       "      <th>weight</th>\n",
       "      <th>genus</th>\n",
       "      <th>species</th>\n",
       "      <th>taxa</th>\n",
       "    </tr>\n",
       "  </thead>\n",
       "  <tbody>\n",
       "    <tr>\n",
       "      <th>0</th>\n",
       "      <td>3</td>\n",
       "      <td>7</td>\n",
       "      <td>16</td>\n",
       "      <td>1977</td>\n",
       "      <td>2</td>\n",
       "      <td>DM</td>\n",
       "      <td>F</td>\n",
       "      <td>37.0</td>\n",
       "      <td>NaN</td>\n",
       "      <td>Dipodomys</td>\n",
       "      <td>merriami</td>\n",
       "      <td>Rodent</td>\n",
       "    </tr>\n",
       "    <tr>\n",
       "      <th>1</th>\n",
       "      <td>4</td>\n",
       "      <td>7</td>\n",
       "      <td>16</td>\n",
       "      <td>1977</td>\n",
       "      <td>7</td>\n",
       "      <td>DM</td>\n",
       "      <td>M</td>\n",
       "      <td>36.0</td>\n",
       "      <td>NaN</td>\n",
       "      <td>Dipodomys</td>\n",
       "      <td>merriami</td>\n",
       "      <td>Rodent</td>\n",
       "    </tr>\n",
       "    <tr>\n",
       "      <th>2</th>\n",
       "      <td>5</td>\n",
       "      <td>7</td>\n",
       "      <td>16</td>\n",
       "      <td>1977</td>\n",
       "      <td>3</td>\n",
       "      <td>DM</td>\n",
       "      <td>M</td>\n",
       "      <td>35.0</td>\n",
       "      <td>NaN</td>\n",
       "      <td>Dipodomys</td>\n",
       "      <td>merriami</td>\n",
       "      <td>Rodent</td>\n",
       "    </tr>\n",
       "    <tr>\n",
       "      <th>3</th>\n",
       "      <td>8</td>\n",
       "      <td>7</td>\n",
       "      <td>16</td>\n",
       "      <td>1977</td>\n",
       "      <td>1</td>\n",
       "      <td>DM</td>\n",
       "      <td>M</td>\n",
       "      <td>37.0</td>\n",
       "      <td>NaN</td>\n",
       "      <td>Dipodomys</td>\n",
       "      <td>merriami</td>\n",
       "      <td>Rodent</td>\n",
       "    </tr>\n",
       "    <tr>\n",
       "      <th>4</th>\n",
       "      <td>9</td>\n",
       "      <td>7</td>\n",
       "      <td>16</td>\n",
       "      <td>1977</td>\n",
       "      <td>1</td>\n",
       "      <td>DM</td>\n",
       "      <td>F</td>\n",
       "      <td>34.0</td>\n",
       "      <td>NaN</td>\n",
       "      <td>Dipodomys</td>\n",
       "      <td>merriami</td>\n",
       "      <td>Rodent</td>\n",
       "    </tr>\n",
       "  </tbody>\n",
       "</table>\n",
       "</div>"
      ],
      "text/plain": [
       "   record_id  month  day  year  plot_id species_id sex  hindfoot_length  \\\n",
       "0          3      7   16  1977        2         DM   F             37.0   \n",
       "1          4      7   16  1977        7         DM   M             36.0   \n",
       "2          5      7   16  1977        3         DM   M             35.0   \n",
       "3          8      7   16  1977        1         DM   M             37.0   \n",
       "4          9      7   16  1977        1         DM   F             34.0   \n",
       "\n",
       "   weight      genus   species    taxa  \n",
       "0     NaN  Dipodomys  merriami  Rodent  \n",
       "1     NaN  Dipodomys  merriami  Rodent  \n",
       "2     NaN  Dipodomys  merriami  Rodent  \n",
       "3     NaN  Dipodomys  merriami  Rodent  \n",
       "4     NaN  Dipodomys  merriami  Rodent  "
      ]
     },
     "execution_count": 3,
     "metadata": {},
     "output_type": "execute_result"
    }
   ],
   "source": [
    "merged_data = pd.merge(left=surveys_df,right=species_df, how='inner', left_on='species_id', right_on='species_id')\n",
    "#merged_left['taxa'] = merged_left['taxa'].fillna('Unidentified')\n",
    "merged_data.head()"
   ]
  },
  {
   "cell_type": "markdown",
   "metadata": {},
   "source": [
    "Grouping by plot"
   ]
  },
  {
   "cell_type": "code",
   "execution_count": 4,
   "metadata": {
    "collapsed": true
   },
   "outputs": [],
   "source": [
    "grouped_by_plot = merged_data.groupby('plot_id')"
   ]
  },
  {
   "cell_type": "markdown",
   "metadata": {},
   "source": [
    "I am not sure if your want to count the \"unique\" taxa found in each plot. The next code reflects that:"
   ]
  },
  {
   "cell_type": "code",
   "execution_count": 5,
   "metadata": {},
   "outputs": [
    {
     "data": {
      "text/plain": [
       "plot_id\n",
       "1    4\n",
       "2    5\n",
       "3    4\n",
       "4    3\n",
       "5    4\n",
       "Name: taxa, dtype: int64"
      ]
     },
     "execution_count": 5,
     "metadata": {},
     "output_type": "execute_result"
    }
   ],
   "source": [
    "taxa_count=grouped_by_plot['taxa'].nunique()\n",
    "taxa_count.head()"
   ]
  },
  {
   "cell_type": "code",
   "execution_count": 6,
   "metadata": {},
   "outputs": [
    {
     "data": {
      "text/plain": [
       "<matplotlib.axes._subplots.AxesSubplot at 0x10e3de7f0>"
      ]
     },
     "execution_count": 6,
     "metadata": {},
     "output_type": "execute_result"
    },
    {
     "data": {
      "image/png": "[encoded data removed]",
      "text/plain": [
       "<matplotlib.figure.Figure at 0x10d006cc0>"
      ]
     },
     "metadata": {},
     "output_type": "display_data"
    }
   ],
   "source": [
    "%matplotlib inline\n",
    "taxa_count.plot(kind='bar')\n"
   ]
  },
  {
   "cell_type": "markdown",
   "metadata": {},
   "source": [
    "The previous plot shows how many taxas were found per plot.\n",
    "\n",
    "However, you might wanted us to show a stacked bar plot to show the number of animals per taxa found in each plot. The next code reflects that."
   ]
  },
  {
   "cell_type": "markdown",
   "metadata": {},
   "source": [
    "Checking what values are in taxa field. Creating a list with those values"
   ]
  },
  {
   "cell_type": "code",
   "execution_count": 7,
   "metadata": {},
   "outputs": [
    {
     "name": "stdout",
     "output_type": "stream",
     "text": [
      "['Rodent', 'Bird', 'Reptile', 'Rodent-not censused', 'Rabbit']\n",
      "[1, 2, 3, 4, 5, 6, 7, 8, 9, 10, 11, 12, 13, 14, 15, 16, 17, 18, 19, 20, 21, 22, 23, 24]\n"
     ]
    }
   ],
   "source": [
    "taxa_labels=list(set(merged_data.taxa))\n",
    "plot_labels=list(set(merged_data.plot_id))\n",
    "print(taxa_labels)\n",
    "print(plot_labels)"
   ]
  },
  {
   "cell_type": "markdown",
   "metadata": {},
   "source": [
    "Creation of lists that contain information of the sum of animals per taxa per plot"
   ]
  },
  {
   "cell_type": "code",
   "execution_count": 8,
   "metadata": {},
   "outputs": [
    {
     "data": {
      "text/plain": [
       "plot_id  taxa               \n",
       "1        Bird                     11\n",
       "         Rabbit                    2\n",
       "         Rodent                 1909\n",
       "         Rodent-not censused      19\n",
       "2        Bird                     17\n",
       "Name: record_id, dtype: int64"
      ]
     },
     "execution_count": 8,
     "metadata": {},
     "output_type": "execute_result"
    }
   ],
   "source": [
    "grouped_by_plot = merged_data.groupby(['plot_id','taxa'])['record_id'].count()\n",
    "grouped_by_plot.head()"
   ]
  },
  {
   "cell_type": "code",
   "execution_count": 9,
   "metadata": {},
   "outputs": [
    {
     "name": "stdout",
     "output_type": "stream",
     "text": [
      "[[1909, 1958, 1690, 1934, 1145, 1523, 748, 1844, 1860, 437, 1837, 2130, 1399, 1749, 898, 608, 1872, 1350, 1152, 1161, 1110, 1353, 497, 908], [11, 17, 17, 5, 5, 20, 28, 10, 13, 12, 10, 31, 48, 17, 23, 15, 4, 12, 14, 51, 13, 16, 41, 17], [0, 1, 0, 0, 0, 1, 1, 1, 0, 0, 2, 0, 1, 0, 1, 0, 1, 0, 1, 2, 1, 1, 0, 0], [19, 14, 19, 24, 15, 21, 27, 27, 39, 8, 21, 30, 50, 53, 96, 16, 50, 20, 11, 42, 30, 9, 23, 22], [2, 3, 5, 0, 1, 0, 0, 1, 1, 10, 5, 8, 1, 4, 3, 3, 6, 1, 8, 0, 1, 2, 8, 2]]\n"
     ]
    },
    {
     "name": "stderr",
     "output_type": "stream",
     "text": [
      "/Users/diegofutbolero/anaconda3/lib/python3.6/site-packages/pandas/core/indexes/multi.py:819: FutureWarning: elementwise comparison failed; returning scalar instead, but in the future will perform elementwise comparison\n",
      "  return self._engine.get_value(s, k)\n"
     ]
    }
   ],
   "source": [
    "per_plot=[]\n",
    "for animal in taxa_labels:\n",
    "    sum_list=[]\n",
    "    for plot in plot_labels:\n",
    "        try:\n",
    "            sum_list.append(grouped_by_plot[plot][animal])\n",
    "        except:\n",
    "            sum_list.append(0)\n",
    "    per_plot.append(list(sum_list))\n",
    "print(per_plot)"
   ]
  },
  {
   "cell_type": "markdown",
   "metadata": {},
   "source": [
    "Creation of the Data Frame "
   ]
  },
  {
   "cell_type": "code",
   "execution_count": 10,
   "metadata": {},
   "outputs": [
    {
     "data": {
      "text/plain": [
       "<bound method NDFrame.head of     Bird  Rabbit  Reptile  Rodent  Rodent-not censused\n",
       "1     11       2        0    1909                   19\n",
       "2     17       3        1    1958                   14\n",
       "3     17       5        0    1690                   19\n",
       "4      5       0        0    1934                   24\n",
       "5      5       1        0    1145                   15\n",
       "6     20       0        1    1523                   21\n",
       "7     28       0        1     748                   27\n",
       "8     10       1        1    1844                   27\n",
       "9     13       1        0    1860                   39\n",
       "10    12      10        0     437                    8\n",
       "11    10       5        2    1837                   21\n",
       "12    31       8        0    2130                   30\n",
       "13    48       1        1    1399                   50\n",
       "14    17       4        0    1749                   53\n",
       "15    23       3        1     898                   96\n",
       "16    15       3        0     608                   16\n",
       "17     4       6        1    1872                   50\n",
       "18    12       1        0    1350                   20\n",
       "19    14       8        1    1152                   11\n",
       "20    51       0        2    1161                   42\n",
       "21    13       1        1    1110                   30\n",
       "22    16       2        1    1353                    9\n",
       "23    41       8        0     497                   23\n",
       "24    17       2        0     908                   22>"
      ]
     },
     "execution_count": 10,
     "metadata": {},
     "output_type": "execute_result"
    }
   ],
   "source": [
    "d={taxa_labels[0]:pd.Series(per_plot[0], index=plot_labels),\n",
    "  taxa_labels[1]:pd.Series(per_plot[1], index=plot_labels),\n",
    "  taxa_labels[2]:pd.Series(per_plot[2], index=plot_labels),\n",
    "  taxa_labels[3]:pd.Series(per_plot[3], index=plot_labels),\n",
    "  taxa_labels[4]:pd.Series(per_plot[4], index=plot_labels)}\n",
    "final_dataframe=pd.DataFrame(d)\n",
    "final_dataframe.head"
   ]
  },
  {
   "cell_type": "markdown",
   "metadata": {},
   "source": [
    "Plot"
   ]
  },
  {
   "cell_type": "code",
   "execution_count": 11,
   "metadata": {},
   "outputs": [
    {
     "data": {
      "text/plain": [
       "<matplotlib.legend.Legend at 0x1134674e0>"
      ]
     },
     "execution_count": 11,
     "metadata": {},
     "output_type": "execute_result"
    },
    {
     "data": {
      "image/png": "[encoded data removed]",
      "text/plain": [
       "<matplotlib.figure.Figure at 0x10e410ba8>"
      ]
     },
     "metadata": {},
     "output_type": "display_data"
    }
   ],
   "source": [
    "final_dataframe.plot(kind='bar',stacked=True)\n",
    "import matplotlib.pyplot as plt\n",
    "plt.legend(bbox_to_anchor=(1.04,1),loc='upper left')"
   ]
  },
  {
   "cell_type": "code",
   "execution_count": 12,
   "metadata": {},
   "outputs": [
    {
     "data": {
      "text/plain": [
       "plot_id  sex  taxa               \n",
       "1        F    Rodent                  827\n",
       "         M    Rodent                 1062\n",
       "2        F    Rodent                  864\n",
       "         M    Rodent                 1062\n",
       "3        F    Rodent                  854\n",
       "         M    Rodent                  788\n",
       "4        F    Rodent                  870\n",
       "         M    Rodent                 1026\n",
       "5        F    Rodent                  507\n",
       "         M    Rodent                  580\n",
       "6        F    Rodent                  729\n",
       "         M    Rodent                  757\n",
       "7        F    Rodent                  330\n",
       "         M    Rodent                  301\n",
       "8        F    Rodent                  835\n",
       "         M    Rodent                  981\n",
       "9        F    Rodent                  849\n",
       "         M    Rodent                  986\n",
       "              Rodent-not censused       1\n",
       "10       F    Rodent                  141\n",
       "         M    Rodent                  140\n",
       "11       F    Rodent                  802\n",
       "         M    Rodent                 1012\n",
       "12       F    Rodent                  968\n",
       "         M    Rodent                 1139\n",
       "13       F    Rodent                  606\n",
       "         M    Rodent                  767\n",
       "14       F    Rodent                  682\n",
       "         M    Rodent                 1042\n",
       "              Rodent-not censused       1\n",
       "15       F    Rodent                  453\n",
       "         M    Rodent                  390\n",
       "16       F    Rodent                  218\n",
       "         M    Rodent                  272\n",
       "              Rodent-not censused       1\n",
       "17       F    Rodent                  823\n",
       "         M    Rodent                 1019\n",
       "18       F    Rodent                  726\n",
       "         M    Rodent                  598\n",
       "19       F    Rodent                  520\n",
       "         M    Rodent                  580\n",
       "20       F    Rodent                  554\n",
       "              Rodent-not censused       1\n",
       "         M    Rodent                  580\n",
       "21       F    Rodent                  600\n",
       "         M    Rodent                  445\n",
       "22       F    Rodent                  666\n",
       "         M    Rodent                  662\n",
       "23       F    Rodent                  165\n",
       "         M    Rodent                  205\n",
       "24       F    Rodent                  425\n",
       "         M    Rodent                  449\n",
       "Name: record_id, dtype: int64"
      ]
     },
     "execution_count": 12,
     "metadata": {},
     "output_type": "execute_result"
    }
   ],
   "source": [
    "grouped_by_plot_and_sex = merged_data.groupby(['plot_id','sex','taxa'])['record_id'].count()\n",
    "grouped_by_plot_and_sex"
   ]
  },
  {
   "cell_type": "code",
   "execution_count": 13,
   "metadata": {},
   "outputs": [
    {
     "name": "stderr",
     "output_type": "stream",
     "text": [
      "/Users/diegofutbolero/anaconda3/lib/python3.6/site-packages/pandas/core/indexes/multi.py:819: FutureWarning: elementwise comparison failed; returning scalar instead, but in the future will perform elementwise comparison\n",
      "  return self._engine.get_value(s, k)\n"
     ]
    },
    {
     "name": "stdout",
     "output_type": "stream",
     "text": [
      "[[[1062, 1062, 788, 1026, 580, 757, 301, 981, 986, 140, 1012, 1139, 767, 1042, 390, 272, 1019, 598, 580, 580, 445, 662, 205, 449], [827, 864, 854, 870, 507, 729, 330, 835, 849, 141, 802, 968, 606, 682, 453, 218, 823, 726, 520, 554, 600, 666, 165, 425]], [[0, 0, 0, 0, 0, 0, 0, 0, 0, 0, 0, 0, 0, 0, 0, 0, 0, 0, 0, 0, 0, 0, 0, 0], [0, 0, 0, 0, 0, 0, 0, 0, 0, 0, 0, 0, 0, 0, 0, 0, 0, 0, 0, 0, 0, 0, 0, 0]], [[0, 0, 0, 0, 0, 0, 0, 0, 0, 0, 0, 0, 0, 0, 0, 0, 0, 0, 0, 0, 0, 0, 0, 0], [0, 0, 0, 0, 0, 0, 0, 0, 0, 0, 0, 0, 0, 0, 0, 0, 0, 0, 0, 0, 0, 0, 0, 0]], [[0, 0, 0, 0, 0, 0, 0, 0, 1, 0, 0, 0, 0, 1, 0, 1, 0, 0, 0, 0, 0, 0, 0, 0], [0, 0, 0, 0, 0, 0, 0, 0, 0, 0, 0, 0, 0, 0, 0, 0, 0, 0, 0, 1, 0, 0, 0, 0]], [[0, 0, 0, 0, 0, 0, 0, 0, 0, 0, 0, 0, 0, 0, 0, 0, 0, 0, 0, 0, 0, 0, 0, 0], [0, 0, 0, 0, 0, 0, 0, 0, 0, 0, 0, 0, 0, 0, 0, 0, 0, 0, 0, 0, 0, 0, 0, 0]]]\n"
     ]
    }
   ],
   "source": [
    "sex = ['M','F']\n",
    "per_plot_and_sex=[]\n",
    "for animal in taxa_labels:\n",
    "    per_sex=[]\n",
    "    for s in sex:\n",
    "        sum_list=[]\n",
    "        for plot in plot_labels:\n",
    "            try:\n",
    "                sum_list.append(grouped_by_plot_and_sex[plot][s][animal])\n",
    "            except:\n",
    "                sum_list.append(0)\n",
    "        per_sex.append(list(sum_list))\n",
    "    per_plot_and_sex.append(per_sex)\n",
    "print(per_plot_and_sex)"
   ]
  },
  {
   "cell_type": "code",
   "execution_count": 14,
   "metadata": {},
   "outputs": [
    {
     "data": {
      "text/html": [
       "<div>\n",
       "<style>\n",
       "    .dataframe thead tr:only-child th {\n",
       "        text-align: right;\n",
       "    }\n",
       "\n",
       "    .dataframe thead th {\n",
       "        text-align: left;\n",
       "    }\n",
       "\n",
       "    .dataframe tbody tr th {\n",
       "        vertical-align: top;\n",
       "    }\n",
       "</style>\n",
       "<table border=\"1\" class=\"dataframe\">\n",
       "  <thead>\n",
       "    <tr style=\"text-align: right;\">\n",
       "      <th></th>\n",
       "      <th>BirdF</th>\n",
       "      <th>BirdM</th>\n",
       "      <th>RabbitF</th>\n",
       "      <th>RabbitM</th>\n",
       "      <th>ReptileF</th>\n",
       "      <th>ReptileM</th>\n",
       "      <th>Rodent-not censusedF</th>\n",
       "      <th>Rodent-not censusedM</th>\n",
       "      <th>RodentF</th>\n",
       "      <th>RodentM</th>\n",
       "    </tr>\n",
       "  </thead>\n",
       "  <tbody>\n",
       "    <tr>\n",
       "      <th>1</th>\n",
       "      <td>0</td>\n",
       "      <td>0</td>\n",
       "      <td>0</td>\n",
       "      <td>0</td>\n",
       "      <td>0</td>\n",
       "      <td>0</td>\n",
       "      <td>0</td>\n",
       "      <td>0</td>\n",
       "      <td>827</td>\n",
       "      <td>1062</td>\n",
       "    </tr>\n",
       "    <tr>\n",
       "      <th>2</th>\n",
       "      <td>0</td>\n",
       "      <td>0</td>\n",
       "      <td>0</td>\n",
       "      <td>0</td>\n",
       "      <td>0</td>\n",
       "      <td>0</td>\n",
       "      <td>0</td>\n",
       "      <td>0</td>\n",
       "      <td>864</td>\n",
       "      <td>1062</td>\n",
       "    </tr>\n",
       "    <tr>\n",
       "      <th>3</th>\n",
       "      <td>0</td>\n",
       "      <td>0</td>\n",
       "      <td>0</td>\n",
       "      <td>0</td>\n",
       "      <td>0</td>\n",
       "      <td>0</td>\n",
       "      <td>0</td>\n",
       "      <td>0</td>\n",
       "      <td>854</td>\n",
       "      <td>788</td>\n",
       "    </tr>\n",
       "    <tr>\n",
       "      <th>4</th>\n",
       "      <td>0</td>\n",
       "      <td>0</td>\n",
       "      <td>0</td>\n",
       "      <td>0</td>\n",
       "      <td>0</td>\n",
       "      <td>0</td>\n",
       "      <td>0</td>\n",
       "      <td>0</td>\n",
       "      <td>870</td>\n",
       "      <td>1026</td>\n",
       "    </tr>\n",
       "    <tr>\n",
       "      <th>5</th>\n",
       "      <td>0</td>\n",
       "      <td>0</td>\n",
       "      <td>0</td>\n",
       "      <td>0</td>\n",
       "      <td>0</td>\n",
       "      <td>0</td>\n",
       "      <td>0</td>\n",
       "      <td>0</td>\n",
       "      <td>507</td>\n",
       "      <td>580</td>\n",
       "    </tr>\n",
       "    <tr>\n",
       "      <th>6</th>\n",
       "      <td>0</td>\n",
       "      <td>0</td>\n",
       "      <td>0</td>\n",
       "      <td>0</td>\n",
       "      <td>0</td>\n",
       "      <td>0</td>\n",
       "      <td>0</td>\n",
       "      <td>0</td>\n",
       "      <td>729</td>\n",
       "      <td>757</td>\n",
       "    </tr>\n",
       "    <tr>\n",
       "      <th>7</th>\n",
       "      <td>0</td>\n",
       "      <td>0</td>\n",
       "      <td>0</td>\n",
       "      <td>0</td>\n",
       "      <td>0</td>\n",
       "      <td>0</td>\n",
       "      <td>0</td>\n",
       "      <td>0</td>\n",
       "      <td>330</td>\n",
       "      <td>301</td>\n",
       "    </tr>\n",
       "    <tr>\n",
       "      <th>8</th>\n",
       "      <td>0</td>\n",
       "      <td>0</td>\n",
       "      <td>0</td>\n",
       "      <td>0</td>\n",
       "      <td>0</td>\n",
       "      <td>0</td>\n",
       "      <td>0</td>\n",
       "      <td>0</td>\n",
       "      <td>835</td>\n",
       "      <td>981</td>\n",
       "    </tr>\n",
       "    <tr>\n",
       "      <th>9</th>\n",
       "      <td>0</td>\n",
       "      <td>0</td>\n",
       "      <td>0</td>\n",
       "      <td>0</td>\n",
       "      <td>0</td>\n",
       "      <td>0</td>\n",
       "      <td>0</td>\n",
       "      <td>1</td>\n",
       "      <td>849</td>\n",
       "      <td>986</td>\n",
       "    </tr>\n",
       "    <tr>\n",
       "      <th>10</th>\n",
       "      <td>0</td>\n",
       "      <td>0</td>\n",
       "      <td>0</td>\n",
       "      <td>0</td>\n",
       "      <td>0</td>\n",
       "      <td>0</td>\n",
       "      <td>0</td>\n",
       "      <td>0</td>\n",
       "      <td>141</td>\n",
       "      <td>140</td>\n",
       "    </tr>\n",
       "    <tr>\n",
       "      <th>11</th>\n",
       "      <td>0</td>\n",
       "      <td>0</td>\n",
       "      <td>0</td>\n",
       "      <td>0</td>\n",
       "      <td>0</td>\n",
       "      <td>0</td>\n",
       "      <td>0</td>\n",
       "      <td>0</td>\n",
       "      <td>802</td>\n",
       "      <td>1012</td>\n",
       "    </tr>\n",
       "    <tr>\n",
       "      <th>12</th>\n",
       "      <td>0</td>\n",
       "      <td>0</td>\n",
       "      <td>0</td>\n",
       "      <td>0</td>\n",
       "      <td>0</td>\n",
       "      <td>0</td>\n",
       "      <td>0</td>\n",
       "      <td>0</td>\n",
       "      <td>968</td>\n",
       "      <td>1139</td>\n",
       "    </tr>\n",
       "    <tr>\n",
       "      <th>13</th>\n",
       "      <td>0</td>\n",
       "      <td>0</td>\n",
       "      <td>0</td>\n",
       "      <td>0</td>\n",
       "      <td>0</td>\n",
       "      <td>0</td>\n",
       "      <td>0</td>\n",
       "      <td>0</td>\n",
       "      <td>606</td>\n",
       "      <td>767</td>\n",
       "    </tr>\n",
       "    <tr>\n",
       "      <th>14</th>\n",
       "      <td>0</td>\n",
       "      <td>0</td>\n",
       "      <td>0</td>\n",
       "      <td>0</td>\n",
       "      <td>0</td>\n",
       "      <td>0</td>\n",
       "      <td>0</td>\n",
       "      <td>1</td>\n",
       "      <td>682</td>\n",
       "      <td>1042</td>\n",
       "    </tr>\n",
       "    <tr>\n",
       "      <th>15</th>\n",
       "      <td>0</td>\n",
       "      <td>0</td>\n",
       "      <td>0</td>\n",
       "      <td>0</td>\n",
       "      <td>0</td>\n",
       "      <td>0</td>\n",
       "      <td>0</td>\n",
       "      <td>0</td>\n",
       "      <td>453</td>\n",
       "      <td>390</td>\n",
       "    </tr>\n",
       "    <tr>\n",
       "      <th>16</th>\n",
       "      <td>0</td>\n",
       "      <td>0</td>\n",
       "      <td>0</td>\n",
       "      <td>0</td>\n",
       "      <td>0</td>\n",
       "      <td>0</td>\n",
       "      <td>0</td>\n",
       "      <td>1</td>\n",
       "      <td>218</td>\n",
       "      <td>272</td>\n",
       "    </tr>\n",
       "    <tr>\n",
       "      <th>17</th>\n",
       "      <td>0</td>\n",
       "      <td>0</td>\n",
       "      <td>0</td>\n",
       "      <td>0</td>\n",
       "      <td>0</td>\n",
       "      <td>0</td>\n",
       "      <td>0</td>\n",
       "      <td>0</td>\n",
       "      <td>823</td>\n",
       "      <td>1019</td>\n",
       "    </tr>\n",
       "    <tr>\n",
       "      <th>18</th>\n",
       "      <td>0</td>\n",
       "      <td>0</td>\n",
       "      <td>0</td>\n",
       "      <td>0</td>\n",
       "      <td>0</td>\n",
       "      <td>0</td>\n",
       "      <td>0</td>\n",
       "      <td>0</td>\n",
       "      <td>726</td>\n",
       "      <td>598</td>\n",
       "    </tr>\n",
       "    <tr>\n",
       "      <th>19</th>\n",
       "      <td>0</td>\n",
       "      <td>0</td>\n",
       "      <td>0</td>\n",
       "      <td>0</td>\n",
       "      <td>0</td>\n",
       "      <td>0</td>\n",
       "      <td>0</td>\n",
       "      <td>0</td>\n",
       "      <td>520</td>\n",
       "      <td>580</td>\n",
       "    </tr>\n",
       "    <tr>\n",
       "      <th>20</th>\n",
       "      <td>0</td>\n",
       "      <td>0</td>\n",
       "      <td>0</td>\n",
       "      <td>0</td>\n",
       "      <td>0</td>\n",
       "      <td>0</td>\n",
       "      <td>1</td>\n",
       "      <td>0</td>\n",
       "      <td>554</td>\n",
       "      <td>580</td>\n",
       "    </tr>\n",
       "    <tr>\n",
       "      <th>21</th>\n",
       "      <td>0</td>\n",
       "      <td>0</td>\n",
       "      <td>0</td>\n",
       "      <td>0</td>\n",
       "      <td>0</td>\n",
       "      <td>0</td>\n",
       "      <td>0</td>\n",
       "      <td>0</td>\n",
       "      <td>600</td>\n",
       "      <td>445</td>\n",
       "    </tr>\n",
       "    <tr>\n",
       "      <th>22</th>\n",
       "      <td>0</td>\n",
       "      <td>0</td>\n",
       "      <td>0</td>\n",
       "      <td>0</td>\n",
       "      <td>0</td>\n",
       "      <td>0</td>\n",
       "      <td>0</td>\n",
       "      <td>0</td>\n",
       "      <td>666</td>\n",
       "      <td>662</td>\n",
       "    </tr>\n",
       "    <tr>\n",
       "      <th>23</th>\n",
       "      <td>0</td>\n",
       "      <td>0</td>\n",
       "      <td>0</td>\n",
       "      <td>0</td>\n",
       "      <td>0</td>\n",
       "      <td>0</td>\n",
       "      <td>0</td>\n",
       "      <td>0</td>\n",
       "      <td>165</td>\n",
       "      <td>205</td>\n",
       "    </tr>\n",
       "    <tr>\n",
       "      <th>24</th>\n",
       "      <td>0</td>\n",
       "      <td>0</td>\n",
       "      <td>0</td>\n",
       "      <td>0</td>\n",
       "      <td>0</td>\n",
       "      <td>0</td>\n",
       "      <td>0</td>\n",
       "      <td>0</td>\n",
       "      <td>425</td>\n",
       "      <td>449</td>\n",
       "    </tr>\n",
       "  </tbody>\n",
       "</table>\n",
       "</div>"
      ],
      "text/plain": [
       "    BirdF  BirdM  RabbitF  RabbitM  ReptileF  ReptileM  Rodent-not censusedF  \\\n",
       "1       0      0        0        0         0         0                     0   \n",
       "2       0      0        0        0         0         0                     0   \n",
       "3       0      0        0        0         0         0                     0   \n",
       "4       0      0        0        0         0         0                     0   \n",
       "5       0      0        0        0         0         0                     0   \n",
       "6       0      0        0        0         0         0                     0   \n",
       "7       0      0        0        0         0         0                     0   \n",
       "8       0      0        0        0         0         0                     0   \n",
       "9       0      0        0        0         0         0                     0   \n",
       "10      0      0        0        0         0         0                     0   \n",
       "11      0      0        0        0         0         0                     0   \n",
       "12      0      0        0        0         0         0                     0   \n",
       "13      0      0        0        0         0         0                     0   \n",
       "14      0      0        0        0         0         0                     0   \n",
       "15      0      0        0        0         0         0                     0   \n",
       "16      0      0        0        0         0         0                     0   \n",
       "17      0      0        0        0         0         0                     0   \n",
       "18      0      0        0        0         0         0                     0   \n",
       "19      0      0        0        0         0         0                     0   \n",
       "20      0      0        0        0         0         0                     1   \n",
       "21      0      0        0        0         0         0                     0   \n",
       "22      0      0        0        0         0         0                     0   \n",
       "23      0      0        0        0         0         0                     0   \n",
       "24      0      0        0        0         0         0                     0   \n",
       "\n",
       "    Rodent-not censusedM  RodentF  RodentM  \n",
       "1                      0      827     1062  \n",
       "2                      0      864     1062  \n",
       "3                      0      854      788  \n",
       "4                      0      870     1026  \n",
       "5                      0      507      580  \n",
       "6                      0      729      757  \n",
       "7                      0      330      301  \n",
       "8                      0      835      981  \n",
       "9                      1      849      986  \n",
       "10                     0      141      140  \n",
       "11                     0      802     1012  \n",
       "12                     0      968     1139  \n",
       "13                     0      606      767  \n",
       "14                     1      682     1042  \n",
       "15                     0      453      390  \n",
       "16                     1      218      272  \n",
       "17                     0      823     1019  \n",
       "18                     0      726      598  \n",
       "19                     0      520      580  \n",
       "20                     0      554      580  \n",
       "21                     0      600      445  \n",
       "22                     0      666      662  \n",
       "23                     0      165      205  \n",
       "24                     0      425      449  "
      ]
     },
     "execution_count": 14,
     "metadata": {},
     "output_type": "execute_result"
    }
   ],
   "source": [
    "d={taxa_labels[0]+sex[0]:pd.Series(per_plot_and_sex[0][0], index=plot_labels),\n",
    "   taxa_labels[0]+sex[1]:pd.Series(per_plot_and_sex[0][1], index=plot_labels),\n",
    "   taxa_labels[1]+sex[0]:pd.Series(per_plot_and_sex[1][0], index=plot_labels),\n",
    "   taxa_labels[1]+sex[1]:pd.Series(per_plot_and_sex[1][1], index=plot_labels),\n",
    "   taxa_labels[2]+sex[0]:pd.Series(per_plot_and_sex[2][0], index=plot_labels),\n",
    "   taxa_labels[2]+sex[1]:pd.Series(per_plot_and_sex[2][1], index=plot_labels),\n",
    "   taxa_labels[3]+sex[0]:pd.Series(per_plot_and_sex[3][0], index=plot_labels),\n",
    "   taxa_labels[3]+sex[1]:pd.Series(per_plot_and_sex[3][1], index=plot_labels),\n",
    "   taxa_labels[4]+sex[0]:pd.Series(per_plot_and_sex[4][0], index=plot_labels),\n",
    "   taxa_labels[4]+sex[1]:pd.Series(per_plot_and_sex[4][1], index=plot_labels)\n",
    "  }\n",
    "final_dataframe=pd.DataFrame(d)\n",
    "final_dataframe"
   ]
  },
  {
   "cell_type": "markdown",
   "metadata": {},
   "source": [
    "There is a problem in the data set.\n",
    "\n",
    "The sex of the animal was not properly recorded. In consequence, many registers have nothing in that cell. That is the reason why for most of the \"taxa\" the cells shows \"0\" (for example, there are neither male nor female birds). Before plotting the data, it would be interesting to use some technique to include either \"M\" of \"F\". However, this is not the purpose of this excercise, and the data will be plotted as it is."
   ]
  },
  {
   "cell_type": "code",
   "execution_count": 15,
   "metadata": {},
   "outputs": [
    {
     "data": {
      "text/plain": [
       "<matplotlib.legend.Legend at 0x116d5fdd8>"
      ]
     },
     "execution_count": 15,
     "metadata": {},
     "output_type": "execute_result"
    },
    {
     "data": {
      "image/png": "[encoded data removed]",
      "text/plain": [
       "<matplotlib.figure.Figure at 0x1167c0f98>"
      ]
     },
     "metadata": {},
     "output_type": "display_data"
    }
   ],
   "source": [
    "final_dataframe.plot(kind='bar',stacked=True)\n",
    "import matplotlib.pyplot as plt\n",
    "plt.legend(bbox_to_anchor=(1.04,1),loc='upper left')"
   ]
  },
  {
   "cell_type": "markdown",
   "metadata": {},
   "source": [
    "## Challenge 2\n",
    "1. Rewrite the one_year_csv_writer and yearly_data_csv_writer functions to have keyword arguments with default values\n",
    "\n",
    "2. Modify the functions so that they don’t create yearly files if there is no data for a given year and display an alert to the user (Hint: use conditional statements to do this. For an extra challenge, use try statements!)\n",
    "\n",
    "3. Add some code to your function that writes out the CSV files, to check for a directory to write to.\n",
    "\n"
   ]
  },
  {
   "cell_type": "markdown",
   "metadata": {},
   "source": [
    "\n",
    "To work,before running the functions, the expresion \"import pandas as pd\" MUST be run."
   ]
  },
  {
   "cell_type": "code",
   "execution_count": 16,
   "metadata": {
    "collapsed": true
   },
   "outputs": [],
   "source": [
    "def one_year_csv_writer(all_data, this_year = 1977, counter = 0):\n",
    "    \"\"\"\n",
    "    Writes a csv file for data from a given year.\n",
    "\n",
    "    this_year --- year for which data is extracted\n",
    "    all_data --- DataFrame with multi-year data\n",
    "    previously run: import pandas as pd. Otherwise, the fuction will not work\n",
    "    \"\"\"\n",
    "    #Creation of the directory\n",
    "    if counter == 0:\n",
    "        import os\n",
    "        if 'yearly_files' in os.listdir('.'):\n",
    "           print('Processed directory exists')\n",
    "        else:\n",
    "           os.mkdir('data/yearly_files')\n",
    "           print('Processed directory created')\n",
    "\n",
    "    \n",
    "    # Select data for the year\n",
    "    if min(surveys_df['year'].unique()) <= this_year and max(surveys_df['year'].unique()) >= this_year:\n",
    "        surveys_year = all_data[all_data.year == this_year]\n",
    "\n",
    "    # Write the new DataFrame to a csv file\n",
    "        filename = 'data/yearly_files/function_surveys_workshop' + str(this_year) + '.csv'\n",
    "        surveys_year.to_csv(filename)\n",
    "    else:\n",
    "        print('File for year '+ str(this_year)+ ' not created')\n",
    "        \n",
    "def yearly_data_csv_writer(all_data, start_year = 1977, end_year = 1977):\n",
    "    \"\"\"\n",
    "    Writes separate CSV files for each year of data.\n",
    "\n",
    "    start_year --- the first year of data we want\n",
    "    end_year --- the last year of data we want\n",
    "    all_data --- DataFrame with multi-year data\n",
    "    previously run: import pandas as pd. Otherwise, the fuction will not work\n",
    "    \"\"\"\n",
    "\n",
    "    # \"end_year\" is the last year of data we want to pull, so we loop to end_year+1\n",
    "    for counter, year in enumerate(range(start_year, end_year+1)):\n",
    "        one_year_csv_writer(all_data, year, counter)\n"
   ]
  },
  {
   "cell_type": "markdown",
   "metadata": {},
   "source": [
    "Run the next lines to test the functions with default values\n",
    "\n",
    "The created files have the name 'function_surveys_workshop_year'"
   ]
  },
  {
   "cell_type": "code",
   "execution_count": 17,
   "metadata": {},
   "outputs": [
    {
     "name": "stdout",
     "output_type": "stream",
     "text": [
      "Processed directory exists\n"
     ]
    }
   ],
   "source": [
    "surveys_df = pd.read_csv('data/surveys.csv')\n",
    "one_year_csv_writer(surveys_df)\n"
   ]
  },
  {
   "cell_type": "markdown",
   "metadata": {},
   "source": [
    "Run the next lines to test the functions with given values.\n",
    "\n",
    "\n"
   ]
  },
  {
   "cell_type": "code",
   "execution_count": 18,
   "metadata": {},
   "outputs": [
    {
     "name": "stdout",
     "output_type": "stream",
     "text": [
      "Processed directory exists\n"
     ]
    }
   ],
   "source": [
    "yearly_data_csv_writer(surveys_df,1980,1990)"
   ]
  },
  {
   "cell_type": "code",
   "execution_count": 19,
   "metadata": {},
   "outputs": [
    {
     "name": "stdout",
     "output_type": "stream",
     "text": [
      "Processed directory exists\n",
      "File for year 1900 not created\n",
      "File for year 1901 not created\n",
      "File for year 1902 not created\n",
      "File for year 1903 not created\n",
      "File for year 1904 not created\n",
      "File for year 1905 not created\n"
     ]
    }
   ],
   "source": [
    "yearly_data_csv_writer(surveys_df,1900,1905)"
   ]
  },
  {
   "cell_type": "markdown",
   "metadata": {
    "collapsed": true
   },
   "source": [
    "## Challenge 3\n",
    "\n",
    "Make a variety of line plots from your data. If you are using the streamgage data, these could include (1) a hydrograph of the entire month of September 2013, (2) the discharge record for the week of the 2013 Front Range flood (September 9 through 15), (3) discharge vs. time of day, for every day in the record in one figure (Hint: use loops to combine strings and give every line a different style and color), and (4) minimum, maximum, and mean daily discharge values. Add axis labels, titles, and legends to your figures. Make at least one figure with multiple plots using the function subplot()."
   ]
  },
  {
   "cell_type": "markdown",
   "metadata": {},
   "source": [
    "Importing data\n",
    "\n",
    "The first step is to remove the header of th file that is not part of the dataset.\n",
    "\n",
    "1. Read line by line the text file and select the data I am interested in."
   ]
  },
  {
   "cell_type": "code",
   "execution_count": 20,
   "metadata": {
    "collapsed": true
   },
   "outputs": [],
   "source": [
    "import pandas as pd\n",
    "import re\n",
    "# Open the file and read the lines\n",
    "f=open('data/bouldercreek_09_2013.txt','r')\n",
    "lines = f.readlines()\n",
    "f.close()\n",
    "\n",
    "# create a list with the data\n",
    "modified_lines=[]\n",
    "for line in lines:\n",
    "    text=re.findall(r'USGS\\t.*',line)\n",
    "    for element in text:\n",
    "        modified_lines.append(element)\n",
    "\n",
    "#Select the data we are interested in\n",
    "modified_split=[]\n",
    "for line in modified_lines:\n",
    "    line_split=line.split('\\t')\n",
    "    modified_split.append(line_split)\n",
    "date_time=[]\n",
    "for line in modified_split:\n",
    "    d_t=line[2].split(\" \")\n",
    "    date_time.append(d_t)\n",
    "\n",
    "#creation of individual lists with the data\n",
    "date=[]\n",
    "time=[]\n",
    "discharge=[]\n",
    "for line in date_time:\n",
    "    date.append(line[0])\n",
    "    time.append(line[1])\n",
    "for line in modified_split:\n",
    "    discharge.append(float(line[4])*0.0283168) #transformed to m3/s\n",
    "\n",
    "\n"
   ]
  },
  {
   "cell_type": "markdown",
   "metadata": {},
   "source": [
    "2.Creation of the Dataframe"
   ]
  },
  {
   "cell_type": "code",
   "execution_count": 21,
   "metadata": {},
   "outputs": [
    {
     "data": {
      "text/html": [
       "<div>\n",
       "<style>\n",
       "    .dataframe thead tr:only-child th {\n",
       "        text-align: right;\n",
       "    }\n",
       "\n",
       "    .dataframe thead th {\n",
       "        text-align: left;\n",
       "    }\n",
       "\n",
       "    .dataframe tbody tr th {\n",
       "        vertical-align: top;\n",
       "    }\n",
       "</style>\n",
       "<table border=\"1\" class=\"dataframe\">\n",
       "  <thead>\n",
       "    <tr style=\"text-align: right;\">\n",
       "      <th></th>\n",
       "      <th>date</th>\n",
       "      <th>time</th>\n",
       "      <th>discharge</th>\n",
       "    </tr>\n",
       "  </thead>\n",
       "  <tbody>\n",
       "    <tr>\n",
       "      <th>0</th>\n",
       "      <td>2013-09-01</td>\n",
       "      <td>00:00</td>\n",
       "      <td>1.614058</td>\n",
       "    </tr>\n",
       "    <tr>\n",
       "      <th>1</th>\n",
       "      <td>2013-09-01</td>\n",
       "      <td>00:15</td>\n",
       "      <td>1.614058</td>\n",
       "    </tr>\n",
       "    <tr>\n",
       "      <th>2</th>\n",
       "      <td>2013-09-01</td>\n",
       "      <td>00:30</td>\n",
       "      <td>1.614058</td>\n",
       "    </tr>\n",
       "    <tr>\n",
       "      <th>3</th>\n",
       "      <td>2013-09-01</td>\n",
       "      <td>00:45</td>\n",
       "      <td>1.614058</td>\n",
       "    </tr>\n",
       "    <tr>\n",
       "      <th>4</th>\n",
       "      <td>2013-09-01</td>\n",
       "      <td>01:00</td>\n",
       "      <td>1.614058</td>\n",
       "    </tr>\n",
       "  </tbody>\n",
       "</table>\n",
       "</div>"
      ],
      "text/plain": [
       "         date   time  discharge\n",
       "0  2013-09-01  00:00   1.614058\n",
       "1  2013-09-01  00:15   1.614058\n",
       "2  2013-09-01  00:30   1.614058\n",
       "3  2013-09-01  00:45   1.614058\n",
       "4  2013-09-01  01:00   1.614058"
      ]
     },
     "execution_count": 21,
     "metadata": {},
     "output_type": "execute_result"
    }
   ],
   "source": [
    "discharge_df=pd.DataFrame({'date':date,'time':time,'discharge':discharge},columns=['date','time','discharge'])\n",
    "discharge_df.head()\n"
   ]
  },
  {
   "cell_type": "markdown",
   "metadata": {},
   "source": [
    "Creation of plots"
   ]
  },
  {
   "cell_type": "markdown",
   "metadata": {},
   "source": [
    "(1) a hydrograph of the entire month of September 2013, "
   ]
  },
  {
   "cell_type": "code",
   "execution_count": 22,
   "metadata": {},
   "outputs": [
    {
     "data": {
      "text/plain": [
       "<matplotlib.legend.Legend at 0x116a7af60>"
      ]
     },
     "execution_count": 22,
     "metadata": {},
     "output_type": "execute_result"
    },
    {
     "data": {
      "image/png": "[encoded data removed]",
      "text/plain": [
       "<matplotlib.figure.Figure at 0x116fd77b8>"
      ]
     },
     "metadata": {},
     "output_type": "display_data"
    }
   ],
   "source": [
    "y=discharge_df.discharge\n",
    "x=list(range(0,len(y)))\n",
    "plt.plot(x,y)\n",
    "plt.title('Hydrograp for September')\n",
    "plt.xlabel('September 2013 data points')\n",
    "plt.ylabel('Discharge [$m^3$/s]')\n",
    "plt.legend()"
   ]
  },
  {
   "cell_type": "markdown",
   "metadata": {},
   "source": [
    "(2) The discharge record for the week of the 2013 Front Range flood (September 9 through 15)\n"
   ]
  },
  {
   "cell_type": "code",
   "execution_count": 23,
   "metadata": {},
   "outputs": [
    {
     "name": "stderr",
     "output_type": "stream",
     "text": [
      "/Users/diegofutbolero/anaconda3/lib/python3.6/site-packages/pandas/core/generic.py:3110: SettingWithCopyWarning: \n",
      "A value is trying to be set on a copy of a slice from a DataFrame.\n",
      "Try using .loc[row_indexer,col_indexer] = value instead\n",
      "\n",
      "See the caveats in the documentation: http://pandas.pydata.org/pandas-docs/stable/indexing.html#indexing-view-versus-copy\n",
      "  self[name] = value\n"
     ]
    },
    {
     "data": {
      "text/plain": [
       "<matplotlib.legend.Legend at 0x116bdf8d0>"
      ]
     },
     "execution_count": 23,
     "metadata": {},
     "output_type": "execute_result"
    },
    {
     "data": {
      "image/png": "[encoded data removed]",
      "text/plain": [
       "<matplotlib.figure.Figure at 0x1174d7438>"
      ]
     },
     "metadata": {},
     "output_type": "display_data"
    }
   ],
   "source": [
    "import re\n",
    "discharge_record=[]\n",
    "for date in discharge_df.date:\n",
    "    dr=re.findall(r'2013-09-09',date)\n",
    "    for tx in dr:    \n",
    "        discharge_record.append(tx)\n",
    "for date in discharge_df.date:\n",
    "    dr=re.findall(r'2013-09-1[1-5]',date)\n",
    "    for tx in dr:    \n",
    "        discharge_record.append(tx)\n",
    "\n",
    "record=discharge_df[discharge_df.date.isin(discharge_record)]\n",
    "record.date=pd.to_datetime(record.date)\n",
    "record.head()\n",
    "plt.plot(record.date,record.discharge)\n",
    "plt.xticks(rotation='vertical')\n",
    "plt.title('Discharge values for the Front Range flood')\n",
    "plt.xlabel('Date')\n",
    "plt.ylabel('Discharge [$m^3$/s]')\n",
    "plt.legend()\n",
    "\n"
   ]
  },
  {
   "cell_type": "markdown",
   "metadata": {},
   "source": [
    "(3) Discharge vs. time of day, for every day in the record in one figure\n",
    "\n",
    "Unfortunately, I could not write the time in the x ticks"
   ]
  },
  {
   "cell_type": "code",
   "execution_count": 24,
   "metadata": {},
   "outputs": [
    {
     "data": {
      "text/plain": [
       "<matplotlib.text.Text at 0x116a46898>"
      ]
     },
     "execution_count": 24,
     "metadata": {},
     "output_type": "execute_result"
    },
    {
     "data": {
      "image/png": "[encoded data removed]",
      "text/plain": [
       "<matplotlib.figure.Figure at 0x116b246a0>"
      ]
     },
     "metadata": {},
     "output_type": "display_data"
    }
   ],
   "source": [
    "days=list(set(discharge_df.date))\n",
    "days=sorted(days)\n",
    "hours=list(set(discharge_df.time))\n",
    "hours=sorted(hours)\n",
    "plt.figure(figsize=(15,8.5))\n",
    "for day in days:\n",
    "    y=discharge_df.discharge[discharge_df.date==day]\n",
    "    x=list(range(1,len(y)+1))\n",
    "    plt.plot(x,y)\n",
    "plt.legend(days,bbox_to_anchor=(1.04,1),loc='upper left')\n",
    "ax=plt.gca()\n",
    "ax.set_xlim([1,96]);\n",
    "plt.title('Discharge values vs. time of day, for every day')\n",
    "plt.xlabel('Time')\n",
    "plt.ylabel('Discharge [$m^3$/s]')\n",
    "\n"
   ]
  },
  {
   "cell_type": "markdown",
   "metadata": {},
   "source": [
    "(4) minimum, maximum, and mean daily discharge values."
   ]
  },
  {
   "cell_type": "code",
   "execution_count": 40,
   "metadata": {},
   "outputs": [
    {
     "data": {
      "text/plain": [
       "<matplotlib.text.Text at 0x11aa4aa20>"
      ]
     },
     "execution_count": 40,
     "metadata": {},
     "output_type": "execute_result"
    },
    {
     "data": {
      "image/png": "[encoded data removed]",
      "text/plain": [
       "<matplotlib.figure.Figure at 0x11a813828>"
      ]
     },
     "metadata": {},
     "output_type": "display_data"
    }
   ],
   "source": [
    "mean_values=[]\n",
    "max_values=[]\n",
    "min_values=[]\n",
    "for day in days:\n",
    "    y=discharge_df.discharge[discharge_df.date==day]\n",
    "    y_max=y.max()\n",
    "    y_min=y.min()\n",
    "    y_mean=y.mean()\n",
    "    mean_values.append(y_mean)\n",
    "    max_values.append(y_max)\n",
    "    min_values.append(y_min)\n",
    "days_plot=pd.to_datetime(days)\n",
    "fig,axs = plt.subplots(3,sharex=True,sharey=True,figsize=(8,8))\n",
    "\n",
    "# Mean\n",
    "ax=axs[0]\n",
    "ax.plot(days_plot,mean_values)\n",
    "ax.set_title('Mean Discharge')\n",
    "\n",
    "#Maximum\n",
    "ax=axs[1]\n",
    "ax.plot(days_plot,max_values)\n",
    "ax.set_title('Maximum Discharge')\n",
    "\n",
    "#Minimum\n",
    "ax=axs[2]\n",
    "ax.plot(days_plot,min_values)\n",
    "ax.set_title('Minimum Discharge')\n",
    "\n",
    "plt.xlabel('Date')\n",
    "fig.text(0.06,0.5,'Discharge [$m^3$/s]',ha='center',va='center',rotation='vertical')\n"
   ]
  },
  {
   "cell_type": "code",
   "execution_count": null,
   "metadata": {
    "collapsed": true
   },
   "outputs": [],
   "source": []
  }
 ],
 "metadata": {
  "kernelspec": {
   "display_name": "Python 3",
   "language": "python",
   "name": "python3"
  },
  "language_info": {
   "codemirror_mode": {
    "name": "ipython",
    "version": 3
   },
   "file_extension": ".py",
   "mimetype": "text/x-python",
   "name": "python",
   "nbconvert_exporter": "python",
   "pygments_lexer": "ipython3",
   "version": "3.6.2"
  }
 },
 "nbformat": 4,
 "nbformat_minor": 2
}
