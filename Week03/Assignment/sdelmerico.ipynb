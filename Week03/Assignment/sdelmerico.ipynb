{
 "cells": [
  {
   "cell_type": "code",
   "execution_count": 124,
   "metadata": {},
   "outputs": [
    {
     "ename": "ModuleNotFoundError",
     "evalue": "No module named 'plotnine'",
     "output_type": "error",
     "traceback": [
      "\u001b[0;31m---------------------------------------------------------------------------\u001b[0m",
      "\u001b[0;31mModuleNotFoundError\u001b[0m                       Traceback (most recent call last)",
      "\u001b[0;32m<ipython-input-124-81936905f69b>\u001b[0m in \u001b[0;36m<module>\u001b[0;34m()\u001b[0m\n\u001b[1;32m      1\u001b[0m \u001b[0;32mimport\u001b[0m \u001b[0mnumpy\u001b[0m \u001b[0;32mas\u001b[0m \u001b[0mnp\u001b[0m\u001b[0;34m\u001b[0m\u001b[0m\n\u001b[1;32m      2\u001b[0m \u001b[0;32mimport\u001b[0m \u001b[0mpandas\u001b[0m \u001b[0;32mas\u001b[0m \u001b[0mpd\u001b[0m\u001b[0;34m\u001b[0m\u001b[0m\n\u001b[0;32m----> 3\u001b[0;31m \u001b[0;32mimport\u001b[0m \u001b[0mplotnine\u001b[0m \u001b[0;32mas\u001b[0m \u001b[0mp9\u001b[0m\u001b[0;34m\u001b[0m\u001b[0m\n\u001b[0m",
      "\u001b[0;31mModuleNotFoundError\u001b[0m: No module named 'plotnine'"
     ]
    }
   ],
   "source": [
    "import numpy as np\n",
    "import pandas as pd\n",
    "import plotnine as p9"
   ]
  },
  {
   "cell_type": "markdown",
   "metadata": {},
   "source": [
    "Combining DataFrames with Pandas\n",
    "===="
   ]
  },
  {
   "cell_type": "code",
   "execution_count": 30,
   "metadata": {},
   "outputs": [],
   "source": [
    "surveys = pd.read_csv(\"surveys.csv\", keep_default_na=False, na_values=[\"\"])\n",
    "species = pd.read_csv(\"species.csv\", keep_default_na=False, na_values=[\"\"])"
   ]
  },
  {
   "cell_type": "code",
   "execution_count": 143,
   "metadata": {
    "scrolled": true
   },
   "outputs": [
    {
     "name": "stdout",
     "output_type": "stream",
     "text": [
      "     plot_id                 taxa  counts\n",
      "0          1                 Bird      11\n",
      "1          1               Rabbit       2\n",
      "2          1               Rodent    1903\n",
      "3          1  Rodent-not censused      19\n",
      "4          2                 Bird      17\n",
      "5          2               Rabbit       3\n",
      "6          2              Reptile       1\n",
      "7          2               Rodent    1955\n",
      "8          2  Rodent-not censused      14\n",
      "9          3                 Bird      17\n",
      "10         3               Rabbit       5\n",
      "11         3               Rodent    1670\n",
      "12         3  Rodent-not censused      19\n",
      "13         4                 Bird       5\n",
      "14         4               Rodent    1925\n",
      "15         4  Rodent-not censused      24\n",
      "16         5                 Bird       5\n",
      "17         5               Rabbit       1\n",
      "18         5               Rodent    1101\n",
      "19         5  Rodent-not censused      15\n",
      "20         6                 Bird      20\n",
      "21         6              Reptile       1\n",
      "22         6               Rodent    1503\n",
      "23         6  Rodent-not censused      21\n",
      "24         7                 Bird      28\n",
      "25         7              Reptile       1\n",
      "26         7               Rodent     661\n",
      "27         7  Rodent-not censused      27\n",
      "28         8                 Bird      10\n",
      "29         8               Rabbit       1\n",
      "..       ...                  ...     ...\n",
      "74        18               Rabbit       1\n",
      "75        18               Rodent    1344\n",
      "76        18  Rodent-not censused      20\n",
      "77        19                 Bird      14\n",
      "78        19               Rabbit       8\n",
      "79        19              Reptile       1\n",
      "80        19               Rodent    1114\n",
      "81        19  Rodent-not censused      11\n",
      "82        20                 Bird      51\n",
      "83        20              Reptile       2\n",
      "84        20               Rodent    1145\n",
      "85        20  Rodent-not censused      42\n",
      "86        21                 Bird      13\n",
      "87        21               Rabbit       1\n",
      "88        21              Reptile       1\n",
      "89        21               Rodent    1072\n",
      "90        21  Rodent-not censused      30\n",
      "91        22                 Bird      16\n",
      "92        22               Rabbit       2\n",
      "93        22              Reptile       1\n",
      "94        22               Rodent    1341\n",
      "95        22  Rodent-not censused       9\n",
      "96        23                 Bird      41\n",
      "97        23               Rabbit       8\n",
      "98        23               Rodent     382\n",
      "99        23  Rodent-not censused      23\n",
      "100       24                 Bird      17\n",
      "101       24               Rabbit       2\n",
      "102       24               Rodent     885\n",
      "103       24  Rodent-not censused      22\n",
      "\n",
      "[104 rows x 3 columns]\n"
     ]
    },
    {
     "ename": "NameError",
     "evalue": "name 'p9' is not defined",
     "output_type": "error",
     "traceback": [
      "\u001b[0;31m---------------------------------------------------------------------------\u001b[0m",
      "\u001b[0;31mNameError\u001b[0m                                 Traceback (most recent call last)",
      "\u001b[0;32m<ipython-input-143-3d88ddfd063b>\u001b[0m in \u001b[0;36m<module>\u001b[0;34m()\u001b[0m\n\u001b[1;32m      4\u001b[0m \u001b[0mtaxa_by_plot\u001b[0m \u001b[0;34m=\u001b[0m \u001b[0mmerged_data\u001b[0m\u001b[0;34m.\u001b[0m\u001b[0mgroupby\u001b[0m\u001b[0;34m(\u001b[0m\u001b[0;34m[\u001b[0m\u001b[0;34m'plot_id'\u001b[0m\u001b[0;34m,\u001b[0m \u001b[0;34m'taxa'\u001b[0m\u001b[0;34m]\u001b[0m\u001b[0;34m)\u001b[0m\u001b[0;34m[\u001b[0m\u001b[0;34m'taxa'\u001b[0m\u001b[0;34m]\u001b[0m\u001b[0;34m.\u001b[0m\u001b[0mcount\u001b[0m\u001b[0;34m(\u001b[0m\u001b[0;34m)\u001b[0m\u001b[0;34m.\u001b[0m\u001b[0mreset_index\u001b[0m\u001b[0;34m(\u001b[0m\u001b[0mname\u001b[0m\u001b[0;34m=\u001b[0m\u001b[0;34m'counts'\u001b[0m\u001b[0;34m)\u001b[0m\u001b[0;34m\u001b[0m\u001b[0m\n\u001b[1;32m      5\u001b[0m \u001b[0mprint\u001b[0m\u001b[0;34m(\u001b[0m\u001b[0mtaxa_by_plot\u001b[0m\u001b[0;34m)\u001b[0m\u001b[0;34m\u001b[0m\u001b[0m\n\u001b[0;32m----> 6\u001b[0;31m (p9.ggplot(data=taxa_by_plot,\n\u001b[0m\u001b[1;32m      7\u001b[0m          mapping=p9.aes(x='plot_id',\n\u001b[1;32m      8\u001b[0m                         \u001b[0my\u001b[0m\u001b[0;34m=\u001b[0m\u001b[0;34m'counts'\u001b[0m\u001b[0;34m,\u001b[0m\u001b[0;34m\u001b[0m\u001b[0m\n",
      "\u001b[0;31mNameError\u001b[0m: name 'p9' is not defined"
     ]
    }
   ],
   "source": [
    "# print(species.columns)\n",
    "# print(surveys.columns)\n",
    "merged_data = pd.merge(left=surveys, right=species, left_on='species_id', right_on='species_id')\n",
    "taxa_by_plot = merged_data.groupby(['plot_id', 'taxa'])['taxa'].count().reset_index(name='counts')\n",
    "print(taxa_by_plot)\n",
    "(p9.ggplot(data=taxa_by_plot,\n",
    "         mapping=p9.aes(x='plot_id',\n",
    "                        y='counts',\n",
    "                        color='taxa'))\n",
    "    + p9.geom_line()\n",
    ")"
   ]
  },
  {
   "cell_type": "markdown",
   "metadata": {},
   "source": [
    "\n",
    "Data Workflows and Automation\n",
    "====\n",
    "Challenge 1\n",
    "----"
   ]
  },
  {
   "cell_type": "markdown",
   "metadata": {},
   "source": [
    "1) What happens if we don’t include the `pass` statement?\n",
    "    \n",
    "    If we don't include the `pass` statement, then the code will fail with a `IndentationError`."
   ]
  },
  {
   "cell_type": "code",
   "execution_count": 3,
   "metadata": {},
   "outputs": [
    {
     "ename": "IndentationError",
     "evalue": "expected an indented block (<ipython-input-3-ea80fc63b868>, line 3)",
     "output_type": "error",
     "traceback": [
      "\u001b[0;36m  File \u001b[0;32m\"<ipython-input-3-ea80fc63b868>\"\u001b[0;36m, line \u001b[0;32m3\u001b[0m\n\u001b[0;31m    print(adsf)\u001b[0m\n\u001b[0m        ^\u001b[0m\n\u001b[0;31mIndentationError\u001b[0m\u001b[0;31m:\u001b[0m expected an indented block\n"
     ]
    }
   ],
   "source": [
    "for i in range(10):\n",
    "    \n",
    "print(adsf)"
   ]
  },
  {
   "cell_type": "code",
   "execution_count": 22,
   "metadata": {},
   "outputs": [
    {
     "name": "stdout",
     "output_type": "stream",
     "text": [
      "lion,tiger,crocodile,vulture,hippo\n"
     ]
    }
   ],
   "source": [
    "animals = ['lion', 'tiger', 'crocodile', 'vulture', 'hippo']\n",
    "print(\",\".join(animals))"
   ]
  },
  {
   "cell_type": "code",
   "execution_count": null,
   "metadata": {},
   "outputs": [],
   "source": []
  }
 ],
 "metadata": {
  "kernelspec": {
   "display_name": "Python 3",
   "language": "python",
   "name": "python3"
  },
  "language_info": {
   "codemirror_mode": {
    "name": "ipython",
    "version": 3
   },
   "file_extension": ".py",
   "mimetype": "text/x-python",
   "name": "python",
   "nbconvert_exporter": "python",
   "pygments_lexer": "ipython3",
   "version": "3.7.0"
  }
 },
 "nbformat": 4,
 "nbformat_minor": 2
}
