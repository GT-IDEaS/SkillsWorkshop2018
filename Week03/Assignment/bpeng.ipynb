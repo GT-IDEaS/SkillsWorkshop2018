{
 "cells": [
  {
   "cell_type": "markdown",
   "metadata": {},
   "source": [
    "# Combining DataFrames with Pandas #"
   ]
  },
  {
   "cell_type": "code",
   "execution_count": 8,
   "metadata": {
    "scrolled": true
   },
   "outputs": [],
   "source": [
    "%matplotlib\n",
    "import pandas as pd\n",
    "survey_1 = pd.read_csv(\"survey2001.csv\")\n",
    "survey_2 = pd.read_csv(\"survey2002.csv\")"
   ]
  },
  {
   "cell_type": "code",
   "execution_count": 16,
   "metadata": {},
   "outputs": [
    {
     "name": "stderr",
     "output_type": "stream",
     "text": [
      "/Users/baijiepeng/anaconda3/lib/python3.6/site-packages/ipykernel_launcher.py:1: FutureWarning: Sorting because non-concatenation axis is not aligned. A future version\n",
      "of pandas will change to not sort by default.\n",
      "\n",
      "To accept the future behavior, pass 'sort=True'.\n",
      "\n",
      "To retain the current behavior and silence the warning, pass sort=False\n",
      "\n",
      "  \"\"\"Entry point for launching an IPython kernel.\n"
     ]
    }
   ],
   "source": [
    "survey_vstack = pd.concat([survey_1, survey_2], axis=0)\n",
    "survey_vstack.reset_index()\n",
    "##export \n",
    "survey_vstack.to_csv(\"survey_combined_bpeng_hw1.csv\")"
   ]
  },
  {
   "cell_type": "code",
   "execution_count": 52,
   "metadata": {},
   "outputs": [
    {
     "data": {
      "text/plain": [
       "year  sex\n",
       "2001  F      36.221914\n",
       "      M      36.481844\n",
       "2002  F      34.016799\n",
       "      M      37.589905\n",
       "Name: wgt, dtype: float64"
      ]
     },
     "execution_count": 52,
     "metadata": {},
     "output_type": "execute_result"
    }
   ],
   "source": [
    "survey = pd.read_csv('survey_combined_bpeng_hw1.csv')\n",
    "survey_cleared = survey.dropna(subset=['sex','wgt'])\n",
    "survey_grouped = survey_cleared.groupby([\"year\",\"sex\"])[\"wgt\"].mean()\n",
    "survey_grouped"
   ]
  },
  {
   "cell_type": "code",
   "execution_count": 55,
   "metadata": {
    "scrolled": true
   },
   "outputs": [
    {
     "data": {
      "text/plain": [
       "<matplotlib.axes._subplots.AxesSubplot at 0x10cc34748>"
      ]
     },
     "execution_count": 55,
     "metadata": {},
     "output_type": "execute_result"
    },
    {
     "data": {
      "image/png": "[encoded data removed]",
      "text/plain": [
       "<Figure size 432x288 with 1 Axes>"
      ]
     },
     "metadata": {},
     "output_type": "display_data"
    }
   ],
   "source": [
    "survey_grouped.plot(kind ='bar',stacked =True, title = 'Plot grouped by sex')"
   ]
  },
  {
   "cell_type": "markdown",
   "metadata": {},
   "source": [
    "# Data Workflows and Automation#"
   ]
  },
  {
   "cell_type": "code",
   "execution_count": 4,
   "metadata": {},
   "outputs": [],
   "source": [
    "import os\n",
    "os.mkdir('yearly_files')\n",
    "import pandas as pd"
   ]
  },
  {
   "cell_type": "code",
   "execution_count": 12,
   "metadata": {},
   "outputs": [],
   "source": [
    "## Question 1 : Null values NOT included \n",
    "survey_data = pd.read_csv('surveys.csv')\n",
    "survey_data = survey_data.dropna()  ## The question didnt specify which column to drop--- all NaN dropped"
   ]
  },
  {
   "cell_type": "code",
   "execution_count": 22,
   "metadata": {
    "scrolled": true
   },
   "outputs": [],
   "source": [
    "## Question 2 : Only every 5 years \n",
    "survey_data = pd.read_csv('surveys.csv')\n",
    "survey_data = survey_data.dropna()  ## optional\n",
    "all_years = survey_data['year'].unique()\n",
    "wanted_years = all_years[::5]\n",
    "for year in wanted_years: \n",
    "    survey_data_year = survey_data[survey_data.year == year] ## take certain year's data\n",
    "    filename = 'yearly_files/surveys' + str(year) + '.csv' ## come up with file name\n",
    "    survey_data_year.to_csv(filename)"
   ]
  },
  {
   "cell_type": "code",
   "execution_count": 26,
   "metadata": {
    "scrolled": true
   },
   "outputs": [],
   "source": [
    "## Question 3: Analysis by species\n",
    "survey_data = pd.read_csv('surveys.csv')\n",
    "survey_data = survey_data.dropna()  ## optional\n",
    "all_species = survey_data['species_id'].unique()\n",
    "for species in all_species: \n",
    "    survey_data_species = survey_data[survey_data.species_id == species] ## take certain year's data\n",
    "    filename = 'yearly_files/surveys' + str(species) + '.csv' ## come up with file name\n",
    "    survey_data_species.to_csv(filename)"
   ]
  },
  {
   "cell_type": "markdown",
   "metadata": {},
   "source": [
    "# Data Ingest & Visualization - Matplotlib & Pandas"
   ]
  },
  {
   "cell_type": "code",
   "execution_count": 1,
   "metadata": {},
   "outputs": [],
   "source": [
    "import pandas as pd\n",
    "import numpy as np\n",
    "import matplotlib.pyplot as plt"
   ]
  },
  {
   "cell_type": "code",
   "execution_count": 2,
   "metadata": {},
   "outputs": [],
   "source": [
    "water_info = pd.read_table('bouldercreek_09_2013.txt')\n",
    "water_info = water_info.drop(columns=['agency_cd', 'site_no','tz_cd', '04_00060_cd'])\n",
    "water_info = water_info.drop(labels=0)\n",
    "water_info = water_info.rename(columns={'04_00060':'water'})\n",
    "water_info.datetime = water_info.datetime.astype('datetime64') \n",
    "water_info.water = water_info.water.astype('int32') \n",
    "## convert to data/time for further processing\n",
    "water_info['date'] = [d.date() for d in water_info['datetime']]\n",
    "water_info['Time'] = [d.time() for d in water_info['datetime']]"
   ]
  },
  {
   "cell_type": "code",
   "execution_count": 70,
   "metadata": {},
   "outputs": [],
   "source": [
    "## all in sept\n",
    "water_sept_all = water_info.groupby(['date'])['water'].sum().reset_index(name = 'count')\n",
    "\n",
    "## filter some dates in sept\n",
    "start_sept = pd.datetime(2013,9,9)\n",
    "end_sept = pd.datetime(2013,9,15)\n",
    "water_sept_frag = water_info[(water_info['date'] >= pd.datetime.date(start_sept))]# & water_info['date'] <= pd.datetime.date(end_sept))]\n",
    "water_sept_frag = water_sept_frag[(water_sept_frag['date'] <= pd.datetime.date(end_sept))]\n",
    "water_sept_frag = water_sept_frag.rename(columns={'04_00060':'water'})\n",
    "water_sept_frag_byday = water_sept_frag.groupby(['date'])['water'].sum().reset_index(name = 'count')\n",
    "\n",
    "## filter by time of the day\n",
    "water_sept_day = water_info.groupby(['Time'])['water'].mean().reset_index(name = 'mean')\n",
    "\n",
    "## discharge values within a day\n",
    "water_mean = water_info.groupby(['date'])['water'].mean().reset_index(name = 'mean')\n",
    "water_max  = water_info.groupby(['date'])['water'].max().reset_index(name = 'max')\n",
    "water_min  = water_info.groupby(['date'])['water'].min().reset_index(name = 'min')"
   ]
  },
  {
   "cell_type": "code",
   "execution_count": 77,
   "metadata": {},
   "outputs": [
    {
     "data": {
      "text/plain": [
       "Text(0.5,1,'Each day in Sept')"
      ]
     },
     "execution_count": 77,
     "metadata": {},
     "output_type": "execute_result"
    },
    {
     "data": {
      "image/png": "[encoded data removed]",
      "text/plain": [
       "<Figure size 936x1008 with 4 Axes>"
      ]
     },
     "metadata": {},
     "output_type": "display_data"
    }
   ],
   "source": [
    "%matplotlib inline\n",
    "fig, axes = plt.subplots(2,2,figsize = (13,14))\n",
    "axes[0,0].plot(water_sept_all['date'],water_sept_all['count'], c = 'r')\n",
    "axes[0,0].set_title('Whole Sept', color = 'r', style = 'italic', fontsize = 15)\n",
    "axes[0,0].set_xlabel('Date')\n",
    "axes[0,0].tick_params(axis = 'x',labelrotation = 20)\n",
    "\n",
    "axes[0,1].plot(water_sept_frag_byday['date'],water_sept_frag_byday['count'], c = 'orchid')\n",
    "axes[0,1].set_title('Part of Sept', color = 'orchid', fontsize = 15, style = 'italic')\n",
    "axes[0,1].set_xlabel('Date')\n",
    "axes[0,1].tick_params(axis = 'x',labelrotation = 20)\n",
    "\n",
    "axes[1,0].plot(water_sept_day['Time'],water_sept_day['mean'], color = 'teal')\n",
    "axes[1,0].set_title('Mean in a day', color = 'teal', style = 'italic', fontsize = 15)\n",
    "axes[1,0].set_xlabel('Time')\n",
    "axes[1,0].tick_params(axis = 'x',labelrotation = 20)\n",
    "\n",
    "axes[1,1].plot(water_mean['date'], water_mean['mean'])\n",
    "axes[1,1].plot(water_max['date'], water_max['max'])\n",
    "axes[1,1].plot(water_min['date'], water_min['min'])\n",
    "axes[1,0].tick_params(axis = 'x',labelrotation = 20)\n",
    "axes[1,1].legend()\n",
    "axes[1,1].set_title('Each day in Sept', color = 'chartreuse', fontsize = 15, style = 'italic')"
   ]
  },
  {
   "cell_type": "code",
   "execution_count": 6,
   "metadata": {},
   "outputs": [
    {
     "data": {
      "text/plain": [
       "0     2013-09-01\n",
       "1     2013-09-02\n",
       "2     2013-09-03\n",
       "3     2013-09-04\n",
       "4     2013-09-05\n",
       "5     2013-09-06\n",
       "6     2013-09-07\n",
       "7     2013-09-08\n",
       "8     2013-09-09\n",
       "9     2013-09-10\n",
       "10    2013-09-11\n",
       "11    2013-09-12\n",
       "12    2013-09-13\n",
       "13    2013-09-14\n",
       "14    2013-09-15\n",
       "15    2013-09-16\n",
       "16    2013-09-17\n",
       "17    2013-09-18\n",
       "18    2013-09-19\n",
       "19    2013-09-20\n",
       "20    2013-09-21\n",
       "21    2013-09-22\n",
       "22    2013-09-23\n",
       "23    2013-09-24\n",
       "24    2013-09-25\n",
       "25    2013-09-26\n",
       "26    2013-09-27\n",
       "27    2013-09-28\n",
       "28    2013-09-29\n",
       "29    2013-09-30\n",
       "Name: date, dtype: object"
      ]
     },
     "execution_count": 6,
     "metadata": {},
     "output_type": "execute_result"
    }
   ],
   "source": [
    "water_sept_all['date']\n"
   ]
  },
  {
   "cell_type": "code",
   "execution_count": 5,
   "metadata": {},
   "outputs": [
    {
     "data": {
      "text/html": [
       "<div>\n",
       "<style scoped>\n",
       "    .dataframe tbody tr th:only-of-type {\n",
       "        vertical-align: middle;\n",
       "    }\n",
       "\n",
       "    .dataframe tbody tr th {\n",
       "        vertical-align: top;\n",
       "    }\n",
       "\n",
       "    .dataframe thead th {\n",
       "        text-align: right;\n",
       "    }\n",
       "</style>\n",
       "<table border=\"1\" class=\"dataframe\">\n",
       "  <thead>\n",
       "    <tr style=\"text-align: right;\">\n",
       "      <th></th>\n",
       "      <th>date</th>\n",
       "      <th>count</th>\n",
       "    </tr>\n",
       "  </thead>\n",
       "  <tbody>\n",
       "    <tr>\n",
       "      <th>0</th>\n",
       "      <td>2013-09-01</td>\n",
       "      <td>5616</td>\n",
       "    </tr>\n",
       "    <tr>\n",
       "      <th>1</th>\n",
       "      <td>2013-09-02</td>\n",
       "      <td>5497</td>\n",
       "    </tr>\n",
       "    <tr>\n",
       "      <th>2</th>\n",
       "      <td>2013-09-03</td>\n",
       "      <td>5023</td>\n",
       "    </tr>\n",
       "    <tr>\n",
       "      <th>3</th>\n",
       "      <td>2013-09-04</td>\n",
       "      <td>6568</td>\n",
       "    </tr>\n",
       "    <tr>\n",
       "      <th>4</th>\n",
       "      <td>2013-09-05</td>\n",
       "      <td>6933</td>\n",
       "    </tr>\n",
       "    <tr>\n",
       "      <th>5</th>\n",
       "      <td>2013-09-06</td>\n",
       "      <td>5783</td>\n",
       "    </tr>\n",
       "    <tr>\n",
       "      <th>6</th>\n",
       "      <td>2013-09-07</td>\n",
       "      <td>3459</td>\n",
       "    </tr>\n",
       "    <tr>\n",
       "      <th>7</th>\n",
       "      <td>2013-09-08</td>\n",
       "      <td>3662</td>\n",
       "    </tr>\n",
       "    <tr>\n",
       "      <th>8</th>\n",
       "      <td>2013-09-09</td>\n",
       "      <td>4471</td>\n",
       "    </tr>\n",
       "    <tr>\n",
       "      <th>9</th>\n",
       "      <td>2013-09-10</td>\n",
       "      <td>11159</td>\n",
       "    </tr>\n",
       "    <tr>\n",
       "      <th>10</th>\n",
       "      <td>2013-09-11</td>\n",
       "      <td>32884</td>\n",
       "    </tr>\n",
       "    <tr>\n",
       "      <th>11</th>\n",
       "      <td>2013-09-12</td>\n",
       "      <td>456080</td>\n",
       "    </tr>\n",
       "    <tr>\n",
       "      <th>12</th>\n",
       "      <td>2013-09-13</td>\n",
       "      <td>447390</td>\n",
       "    </tr>\n",
       "    <tr>\n",
       "      <th>13</th>\n",
       "      <td>2013-09-14</td>\n",
       "      <td>148850</td>\n",
       "    </tr>\n",
       "    <tr>\n",
       "      <th>14</th>\n",
       "      <td>2013-09-15</td>\n",
       "      <td>174690</td>\n",
       "    </tr>\n",
       "    <tr>\n",
       "      <th>15</th>\n",
       "      <td>2013-09-16</td>\n",
       "      <td>170360</td>\n",
       "    </tr>\n",
       "    <tr>\n",
       "      <th>16</th>\n",
       "      <td>2013-09-17</td>\n",
       "      <td>133200</td>\n",
       "    </tr>\n",
       "    <tr>\n",
       "      <th>17</th>\n",
       "      <td>2013-09-18</td>\n",
       "      <td>121360</td>\n",
       "    </tr>\n",
       "    <tr>\n",
       "      <th>18</th>\n",
       "      <td>2013-09-19</td>\n",
       "      <td>103630</td>\n",
       "    </tr>\n",
       "    <tr>\n",
       "      <th>19</th>\n",
       "      <td>2013-09-20</td>\n",
       "      <td>89463</td>\n",
       "    </tr>\n",
       "    <tr>\n",
       "      <th>20</th>\n",
       "      <td>2013-09-21</td>\n",
       "      <td>78711</td>\n",
       "    </tr>\n",
       "    <tr>\n",
       "      <th>21</th>\n",
       "      <td>2013-09-22</td>\n",
       "      <td>68384</td>\n",
       "    </tr>\n",
       "    <tr>\n",
       "      <th>22</th>\n",
       "      <td>2013-09-23</td>\n",
       "      <td>72920</td>\n",
       "    </tr>\n",
       "    <tr>\n",
       "      <th>23</th>\n",
       "      <td>2013-09-24</td>\n",
       "      <td>61290</td>\n",
       "    </tr>\n",
       "    <tr>\n",
       "      <th>24</th>\n",
       "      <td>2013-09-25</td>\n",
       "      <td>53842</td>\n",
       "    </tr>\n",
       "    <tr>\n",
       "      <th>25</th>\n",
       "      <td>2013-09-26</td>\n",
       "      <td>46781</td>\n",
       "    </tr>\n",
       "    <tr>\n",
       "      <th>26</th>\n",
       "      <td>2013-09-27</td>\n",
       "      <td>45327</td>\n",
       "    </tr>\n",
       "    <tr>\n",
       "      <th>27</th>\n",
       "      <td>2013-09-28</td>\n",
       "      <td>44272</td>\n",
       "    </tr>\n",
       "    <tr>\n",
       "      <th>28</th>\n",
       "      <td>2013-09-29</td>\n",
       "      <td>35619</td>\n",
       "    </tr>\n",
       "    <tr>\n",
       "      <th>29</th>\n",
       "      <td>2013-09-30</td>\n",
       "      <td>33993</td>\n",
       "    </tr>\n",
       "  </tbody>\n",
       "</table>\n",
       "</div>"
      ],
      "text/plain": [
       "          date   count\n",
       "0   2013-09-01    5616\n",
       "1   2013-09-02    5497\n",
       "2   2013-09-03    5023\n",
       "3   2013-09-04    6568\n",
       "4   2013-09-05    6933\n",
       "5   2013-09-06    5783\n",
       "6   2013-09-07    3459\n",
       "7   2013-09-08    3662\n",
       "8   2013-09-09    4471\n",
       "9   2013-09-10   11159\n",
       "10  2013-09-11   32884\n",
       "11  2013-09-12  456080\n",
       "12  2013-09-13  447390\n",
       "13  2013-09-14  148850\n",
       "14  2013-09-15  174690\n",
       "15  2013-09-16  170360\n",
       "16  2013-09-17  133200\n",
       "17  2013-09-18  121360\n",
       "18  2013-09-19  103630\n",
       "19  2013-09-20   89463\n",
       "20  2013-09-21   78711\n",
       "21  2013-09-22   68384\n",
       "22  2013-09-23   72920\n",
       "23  2013-09-24   61290\n",
       "24  2013-09-25   53842\n",
       "25  2013-09-26   46781\n",
       "26  2013-09-27   45327\n",
       "27  2013-09-28   44272\n",
       "28  2013-09-29   35619\n",
       "29  2013-09-30   33993"
      ]
     },
     "execution_count": 5,
     "metadata": {},
     "output_type": "execute_result"
    }
   ],
   "source": [
    "water_sept_all"
   ]
  },
  {
   "cell_type": "code",
   "execution_count": null,
   "metadata": {},
   "outputs": [],
   "source": []
  }
 ],
 "metadata": {
  "kernelspec": {
   "display_name": "Python 3",
   "language": "python",
   "name": "python3"
  },
  "language_info": {
   "codemirror_mode": {
    "name": "ipython",
    "version": 3
   },
   "file_extension": ".py",
   "mimetype": "text/x-python",
   "name": "python",
   "nbconvert_exporter": "python",
   "pygments_lexer": "ipython3",
   "version": "3.6.5"
  }
 },
 "nbformat": 4,
 "nbformat_minor": 2
}
